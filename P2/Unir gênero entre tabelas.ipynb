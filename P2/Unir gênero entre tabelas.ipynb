{
 "cells": [
  {
   "cell_type": "code",
   "execution_count": 1,
   "metadata": {
    "collapsed": true
   },
   "outputs": [],
   "source": [
    "import pandas as pd\n",
    "from unidecode import unidecode"
   ]
  },
  {
   "cell_type": "code",
   "execution_count": 3,
   "metadata": {
    "collapsed": false
   },
   "outputs": [
    {
     "data": {
      "text/html": [
       "<div>\n",
       "<table border=\"1\" class=\"dataframe\">\n",
       "  <thead>\n",
       "    <tr style=\"text-align: right;\">\n",
       "      <th></th>\n",
       "      <th>nome</th>\n",
       "      <th>sexo</th>\n",
       "      <th>primeiro_nome</th>\n",
       "    </tr>\n",
       "  </thead>\n",
       "  <tbody>\n",
       "    <tr>\n",
       "      <th>0</th>\n",
       "      <td>CLEMILDO BARBOSA LIMA</td>\n",
       "      <td>MASCULINO</td>\n",
       "      <td>clemildo</td>\n",
       "    </tr>\n",
       "    <tr>\n",
       "      <th>1</th>\n",
       "      <td>MARIA AUXILIADORA DIAS</td>\n",
       "      <td>FEMININO</td>\n",
       "      <td>maria</td>\n",
       "    </tr>\n",
       "    <tr>\n",
       "      <th>2</th>\n",
       "      <td>FRANCISCO CLODOALDO DE SOUZA RODRIGUES</td>\n",
       "      <td>MASCULINO</td>\n",
       "      <td>francisco</td>\n",
       "    </tr>\n",
       "    <tr>\n",
       "      <th>3</th>\n",
       "      <td>MARIA DAS GRAÇAS ALVES DA SILVA</td>\n",
       "      <td>FEMININO</td>\n",
       "      <td>maria</td>\n",
       "    </tr>\n",
       "    <tr>\n",
       "      <th>4</th>\n",
       "      <td>RAILA INACIO CORREIA</td>\n",
       "      <td>FEMININO</td>\n",
       "      <td>raila</td>\n",
       "    </tr>\n",
       "  </tbody>\n",
       "</table>\n",
       "</div>"
      ],
      "text/plain": [
       "                                     nome       sexo primeiro_nome\n",
       "0                   CLEMILDO BARBOSA LIMA  MASCULINO      clemildo\n",
       "1                  MARIA AUXILIADORA DIAS   FEMININO         maria\n",
       "2  FRANCISCO CLODOALDO DE SOUZA RODRIGUES  MASCULINO     francisco\n",
       "3         MARIA DAS GRAÇAS ALVES DA SILVA   FEMININO         maria\n",
       "4                    RAILA INACIO CORREIA   FEMININO         raila"
      ]
     },
     "execution_count": 3,
     "metadata": {},
     "output_type": "execute_result"
    }
   ],
   "source": [
    "df_model = pd.read_csv('data/process/TSE.csv', encoding='latin1')\n",
    "df_model.head()"
   ]
  },
  {
   "cell_type": "code",
   "execution_count": 4,
   "metadata": {
    "collapsed": false
   },
   "outputs": [],
   "source": [
    "df_model['sexo_cat'] = df_model['sexo'].apply(lambda x: -1 if x == 'MASCULINO' else 1)"
   ]
  },
  {
   "cell_type": "code",
   "execution_count": 5,
   "metadata": {
    "collapsed": false
   },
   "outputs": [
    {
     "data": {
      "text/html": [
       "<div>\n",
       "<table border=\"1\" class=\"dataframe\">\n",
       "  <thead>\n",
       "    <tr style=\"text-align: right;\">\n",
       "      <th></th>\n",
       "      <th>primeiro_nome</th>\n",
       "      <th>sexo</th>\n",
       "    </tr>\n",
       "  </thead>\n",
       "  <tbody>\n",
       "    <tr>\n",
       "      <th>0</th>\n",
       "      <td>clemildo</td>\n",
       "      <td>MASCULINO</td>\n",
       "    </tr>\n",
       "    <tr>\n",
       "      <th>1</th>\n",
       "      <td>maria</td>\n",
       "      <td>FEMININO</td>\n",
       "    </tr>\n",
       "    <tr>\n",
       "      <th>2</th>\n",
       "      <td>francisco</td>\n",
       "      <td>MASCULINO</td>\n",
       "    </tr>\n",
       "    <tr>\n",
       "      <th>3</th>\n",
       "      <td>maria</td>\n",
       "      <td>FEMININO</td>\n",
       "    </tr>\n",
       "    <tr>\n",
       "      <th>4</th>\n",
       "      <td>raila</td>\n",
       "      <td>FEMININO</td>\n",
       "    </tr>\n",
       "  </tbody>\n",
       "</table>\n",
       "</div>"
      ],
      "text/plain": [
       "  primeiro_nome       sexo\n",
       "0      clemildo  MASCULINO\n",
       "1         maria   FEMININO\n",
       "2     francisco  MASCULINO\n",
       "3         maria   FEMININO\n",
       "4         raila   FEMININO"
      ]
     },
     "execution_count": 5,
     "metadata": {},
     "output_type": "execute_result"
    }
   ],
   "source": [
    "df_model = df_model[['primeiro_nome', 'sexo']]\n",
    "df_model.head()"
   ]
  },
  {
   "cell_type": "markdown",
   "metadata": {},
   "source": [
    "NORMALISE NAMES"
   ]
  },
  {
   "cell_type": "code",
   "execution_count": 6,
   "metadata": {
    "collapsed": false
   },
   "outputs": [],
   "source": [
    "df_model['primeiro_nome'] = df_model['primeiro_nome'].apply(lambda x: unidecode(x).lower())"
   ]
  },
  {
   "cell_type": "markdown",
   "metadata": {},
   "source": [
    "Show most commom names"
   ]
  },
  {
   "cell_type": "code",
   "execution_count": 7,
   "metadata": {
    "collapsed": false
   },
   "outputs": [
    {
     "data": {
      "text/html": [
       "<div>\n",
       "<table border=\"1\" class=\"dataframe\">\n",
       "  <thead>\n",
       "    <tr style=\"text-align: right;\">\n",
       "      <th></th>\n",
       "      <th>sexo</th>\n",
       "    </tr>\n",
       "    <tr>\n",
       "      <th>primeiro_nome</th>\n",
       "      <th></th>\n",
       "    </tr>\n",
       "  </thead>\n",
       "  <tbody>\n",
       "    <tr>\n",
       "      <th>jose</th>\n",
       "      <td>28668</td>\n",
       "    </tr>\n",
       "    <tr>\n",
       "      <th>maria</th>\n",
       "      <td>21227</td>\n",
       "    </tr>\n",
       "    <tr>\n",
       "      <th>antonio</th>\n",
       "      <td>11972</td>\n",
       "    </tr>\n",
       "    <tr>\n",
       "      <th>joao</th>\n",
       "      <td>9958</td>\n",
       "    </tr>\n",
       "    <tr>\n",
       "      <th>francisco</th>\n",
       "      <td>8097</td>\n",
       "    </tr>\n",
       "  </tbody>\n",
       "</table>\n",
       "</div>"
      ],
      "text/plain": [
       "                sexo\n",
       "primeiro_nome       \n",
       "jose           28668\n",
       "maria          21227\n",
       "antonio        11972\n",
       "joao            9958\n",
       "francisco       8097"
      ]
     },
     "execution_count": 7,
     "metadata": {},
     "output_type": "execute_result"
    }
   ],
   "source": [
    "df_model.groupby('primeiro_nome').count().sort_values(by='sexo', ascending=False).head()"
   ]
  },
  {
   "cell_type": "markdown",
   "metadata": {},
   "source": [
    "Get probability of the sex"
   ]
  },
  {
   "cell_type": "code",
   "execution_count": 8,
   "metadata": {
    "collapsed": true
   },
   "outputs": [],
   "source": [
    "def sex_prob(x):\n",
    "    \n",
    "    masc = (x['sexo'] == 'MASCULINO').sum()\n",
    "    fem = (x['sexo'] == 'FEMININO').sum()\n",
    "\n",
    "    return (masc - fem) / float(len(x))"
   ]
  },
  {
   "cell_type": "code",
   "execution_count": 9,
   "metadata": {
    "collapsed": false
   },
   "outputs": [],
   "source": [
    "df = df_model.groupby('primeiro_nome').apply(sex_prob)"
   ]
  },
  {
   "cell_type": "code",
   "execution_count": 10,
   "metadata": {
    "collapsed": false
   },
   "outputs": [
    {
     "data": {
      "text/plain": [
       "primeiro_nome\n",
       ".jose     1.0\n",
       "aarao     1.0\n",
       "aaron     1.0\n",
       "abadi     1.0\n",
       "abadia   -1.0\n",
       "dtype: float64"
      ]
     },
     "execution_count": 10,
     "metadata": {},
     "output_type": "execute_result"
    }
   ],
   "source": [
    "df.head()"
   ]
  },
  {
   "cell_type": "code",
   "execution_count": 11,
   "metadata": {
    "collapsed": false,
    "scrolled": true
   },
   "outputs": [],
   "source": [
    "# Write file\n",
    "df.to_csv('data/process/nome_sexo.csv', encoding='latin1')"
   ]
  },
  {
   "cell_type": "markdown",
   "metadata": {},
   "source": [
    "Federal Data Cleaning"
   ]
  },
  {
   "cell_type": "code",
   "execution_count": 14,
   "metadata": {
    "collapsed": false
   },
   "outputs": [
    {
     "name": "stdout",
     "output_type": "stream",
     "text": [
      "Tamanho da base 590670\n"
     ]
    },
    {
     "data": {
      "text/html": [
       "<div>\n",
       "<table border=\"1\" class=\"dataframe\">\n",
       "  <thead>\n",
       "    <tr style=\"text-align: right;\">\n",
       "      <th></th>\n",
       "      <th>NOME</th>\n",
       "      <th>ID_SERVIDOR_PORTAL</th>\n",
       "      <th>REMUNERACAO_BASICA_BRUTA</th>\n",
       "      <th>PRIMEIRO_NOME</th>\n",
       "    </tr>\n",
       "  </thead>\n",
       "  <tbody>\n",
       "    <tr>\n",
       "      <th>0</th>\n",
       "      <td>PAULO MARTINS SOARES</td>\n",
       "      <td>1000000</td>\n",
       "      <td>6779,03</td>\n",
       "      <td>PAULO</td>\n",
       "    </tr>\n",
       "    <tr>\n",
       "      <th>1</th>\n",
       "      <td>ANALIA BATISTA</td>\n",
       "      <td>1000001</td>\n",
       "      <td>9151,22</td>\n",
       "      <td>ANALIA</td>\n",
       "    </tr>\n",
       "    <tr>\n",
       "      <th>2</th>\n",
       "      <td>ARY DE NOROES FILHO</td>\n",
       "      <td>1000002</td>\n",
       "      <td>6012,61</td>\n",
       "      <td>ARY</td>\n",
       "    </tr>\n",
       "    <tr>\n",
       "      <th>3</th>\n",
       "      <td>MOISES ALBERTO CALLE AGUIRRE</td>\n",
       "      <td>1000004</td>\n",
       "      <td>11554,56</td>\n",
       "      <td>MOISES</td>\n",
       "    </tr>\n",
       "    <tr>\n",
       "      <th>4</th>\n",
       "      <td>LAURA JANAINA DIAS AMATO</td>\n",
       "      <td>1000005</td>\n",
       "      <td>10769,82</td>\n",
       "      <td>LAURA</td>\n",
       "    </tr>\n",
       "  </tbody>\n",
       "</table>\n",
       "</div>"
      ],
      "text/plain": [
       "                           NOME  ID_SERVIDOR_PORTAL REMUNERACAO_BASICA_BRUTA  \\\n",
       "0          PAULO MARTINS SOARES             1000000                  6779,03   \n",
       "1                ANALIA BATISTA             1000001                  9151,22   \n",
       "2           ARY DE NOROES FILHO             1000002                  6012,61   \n",
       "3  MOISES ALBERTO CALLE AGUIRRE             1000004                 11554,56   \n",
       "4      LAURA JANAINA DIAS AMATO             1000005                 10769,82   \n",
       "\n",
       "  PRIMEIRO_NOME  \n",
       "0         PAULO  \n",
       "1        ANALIA  \n",
       "2           ARY  \n",
       "3        MOISES  \n",
       "4         LAURA  "
      ]
     },
     "execution_count": 14,
     "metadata": {},
     "output_type": "execute_result"
    }
   ],
   "source": [
    "df_data = pd.read_csv('data/process/primeiro_nome.csv', index_col='Unnamed: 0')\n",
    "print 'Tamanho da base', len(df_data)\n",
    "df_data.head()"
   ]
  },
  {
   "cell_type": "markdown",
   "metadata": {},
   "source": [
    "Show most commom names"
   ]
  },
  {
   "cell_type": "code",
   "execution_count": 15,
   "metadata": {
    "collapsed": false
   },
   "outputs": [
    {
     "data": {
      "text/html": [
       "<div>\n",
       "<table border=\"1\" class=\"dataframe\">\n",
       "  <thead>\n",
       "    <tr style=\"text-align: right;\">\n",
       "      <th></th>\n",
       "      <th>NOME</th>\n",
       "      <th>ID_SERVIDOR_PORTAL</th>\n",
       "      <th>REMUNERACAO_BASICA_BRUTA</th>\n",
       "    </tr>\n",
       "    <tr>\n",
       "      <th>PRIMEIRO_NOME</th>\n",
       "      <th></th>\n",
       "      <th></th>\n",
       "      <th></th>\n",
       "    </tr>\n",
       "  </thead>\n",
       "  <tbody>\n",
       "    <tr>\n",
       "      <th>MARIA</th>\n",
       "      <td>25956</td>\n",
       "      <td>25956</td>\n",
       "      <td>25956</td>\n",
       "    </tr>\n",
       "    <tr>\n",
       "      <th>JOSE</th>\n",
       "      <td>20172</td>\n",
       "      <td>20172</td>\n",
       "      <td>20172</td>\n",
       "    </tr>\n",
       "    <tr>\n",
       "      <th>ANA</th>\n",
       "      <td>9655</td>\n",
       "      <td>9655</td>\n",
       "      <td>9655</td>\n",
       "    </tr>\n",
       "    <tr>\n",
       "      <th>ANTONIO</th>\n",
       "      <td>8915</td>\n",
       "      <td>8915</td>\n",
       "      <td>8915</td>\n",
       "    </tr>\n",
       "    <tr>\n",
       "      <th>CARLOS</th>\n",
       "      <td>8350</td>\n",
       "      <td>8350</td>\n",
       "      <td>8350</td>\n",
       "    </tr>\n",
       "  </tbody>\n",
       "</table>\n",
       "</div>"
      ],
      "text/plain": [
       "                NOME  ID_SERVIDOR_PORTAL  REMUNERACAO_BASICA_BRUTA\n",
       "PRIMEIRO_NOME                                                     \n",
       "MARIA          25956               25956                     25956\n",
       "JOSE           20172               20172                     20172\n",
       "ANA             9655                9655                      9655\n",
       "ANTONIO         8915                8915                      8915\n",
       "CARLOS          8350                8350                      8350"
      ]
     },
     "execution_count": 15,
     "metadata": {},
     "output_type": "execute_result"
    }
   ],
   "source": [
    "df_data.groupby('PRIMEIRO_NOME').count().sort_values(by='ID_SERVIDOR_PORTAL', ascending=False).head()"
   ]
  },
  {
   "cell_type": "markdown",
   "metadata": {},
   "source": [
    "Normalise names"
   ]
  },
  {
   "cell_type": "code",
   "execution_count": 16,
   "metadata": {
    "collapsed": false
   },
   "outputs": [
    {
     "name": "stderr",
     "output_type": "stream",
     "text": [
      "/Users/Admin/anaconda/lib/python2.7/site-packages/unidecode/__init__.py:46: RuntimeWarning: Argument <type 'str'> is not an unicode object. Passing an encoded string will likely have unexpected results.\n",
      "  _warn_if_not_unicode(string)\n"
     ]
    }
   ],
   "source": [
    "df_data['PRIMEIRO_NOME'] = df_data['PRIMEIRO_NOME'].apply(lambda x: unidecode(x).lower())"
   ]
  },
  {
   "cell_type": "markdown",
   "metadata": {
    "collapsed": false
   },
   "source": [
    "Match names with sex"
   ]
  },
  {
   "cell_type": "code",
   "execution_count": 17,
   "metadata": {
    "collapsed": false
   },
   "outputs": [],
   "source": [
    "def get_sex(x, **kwargs):\n",
    "    \n",
    "    if x in df.keys():\n",
    "        return df[x]\n",
    "    else:\n",
    "        return 0"
   ]
  },
  {
   "cell_type": "code",
   "execution_count": 18,
   "metadata": {
    "collapsed": false
   },
   "outputs": [],
   "source": [
    "df_data['sexo'] = df_data['PRIMEIRO_NOME'].apply(get_sex, df=df)"
   ]
  },
  {
   "cell_type": "markdown",
   "metadata": {
    "collapsed": false
   },
   "source": [
    "Write File"
   ]
  },
  {
   "cell_type": "code",
   "execution_count": 19,
   "metadata": {
    "collapsed": false
   },
   "outputs": [],
   "source": [
    "df_data.to_csv('data/process/data_sexo.csv', encoding='latin1')"
   ]
  },
  {
   "cell_type": "code",
   "execution_count": 20,
   "metadata": {
    "collapsed": false
   },
   "outputs": [],
   "source": [
    "df_data = pd.read_csv('data/process/data_sexo.csv', index_col='Unnamed: 0')\n",
    "df_data = df_data[df_data['sexo'] != 0]"
   ]
  },
  {
   "cell_type": "code",
   "execution_count": 23,
   "metadata": {
    "collapsed": false
   },
   "outputs": [
    {
     "name": "stdout",
     "output_type": "stream",
     "text": [
      " 557914 590670\n"
     ]
    },
    {
     "data": {
      "text/html": [
       "<div>\n",
       "<table border=\"1\" class=\"dataframe\">\n",
       "  <thead>\n",
       "    <tr style=\"text-align: right;\">\n",
       "      <th></th>\n",
       "      <th>NOME</th>\n",
       "      <th>ID_SERVIDOR_PORTAL</th>\n",
       "      <th>REMUNERACAO_BASICA_BRUTA</th>\n",
       "      <th>PRIMEIRO_NOME</th>\n",
       "      <th>sexo</th>\n",
       "    </tr>\n",
       "  </thead>\n",
       "  <tbody>\n",
       "    <tr>\n",
       "      <th>0</th>\n",
       "      <td>PAULO MARTINS SOARES</td>\n",
       "      <td>1000000</td>\n",
       "      <td>6779,03</td>\n",
       "      <td>paulo</td>\n",
       "      <td>0.999404</td>\n",
       "    </tr>\n",
       "    <tr>\n",
       "      <th>1</th>\n",
       "      <td>ANALIA BATISTA</td>\n",
       "      <td>1000001</td>\n",
       "      <td>9151,22</td>\n",
       "      <td>analia</td>\n",
       "      <td>-1.000000</td>\n",
       "    </tr>\n",
       "    <tr>\n",
       "      <th>2</th>\n",
       "      <td>ARY DE NOROES FILHO</td>\n",
       "      <td>1000002</td>\n",
       "      <td>6012,61</td>\n",
       "      <td>ary</td>\n",
       "      <td>1.000000</td>\n",
       "    </tr>\n",
       "    <tr>\n",
       "      <th>3</th>\n",
       "      <td>MOISES ALBERTO CALLE AGUIRRE</td>\n",
       "      <td>1000004</td>\n",
       "      <td>11554,56</td>\n",
       "      <td>moises</td>\n",
       "      <td>0.996205</td>\n",
       "    </tr>\n",
       "    <tr>\n",
       "      <th>4</th>\n",
       "      <td>LAURA JANAINA DIAS AMATO</td>\n",
       "      <td>1000005</td>\n",
       "      <td>10769,82</td>\n",
       "      <td>laura</td>\n",
       "      <td>-1.000000</td>\n",
       "    </tr>\n",
       "  </tbody>\n",
       "</table>\n",
       "</div>"
      ],
      "text/plain": [
       "                           NOME  ID_SERVIDOR_PORTAL REMUNERACAO_BASICA_BRUTA  \\\n",
       "0          PAULO MARTINS SOARES             1000000                  6779,03   \n",
       "1                ANALIA BATISTA             1000001                  9151,22   \n",
       "2           ARY DE NOROES FILHO             1000002                  6012,61   \n",
       "3  MOISES ALBERTO CALLE AGUIRRE             1000004                 11554,56   \n",
       "4      LAURA JANAINA DIAS AMATO             1000005                 10769,82   \n",
       "\n",
       "  PRIMEIRO_NOME      sexo  \n",
       "0         paulo  0.999404  \n",
       "1        analia -1.000000  \n",
       "2           ary  1.000000  \n",
       "3        moises  0.996205  \n",
       "4         laura -1.000000  "
      ]
     },
     "execution_count": 23,
     "metadata": {},
     "output_type": "execute_result"
    }
   ],
   "source": [
    "print len(df_data), len(pd.read_csv('data/process/primeiro_nome.csv', index_col='Unnamed: 0'))\n",
    "df_data.head()"
   ]
  },
  {
   "cell_type": "markdown",
   "metadata": {},
   "source": [
    "Get names that have high probability of being of that sex: abs(sexo) > 0.6"
   ]
  },
  {
   "cell_type": "code",
   "execution_count": 24,
   "metadata": {
    "collapsed": false
   },
   "outputs": [
    {
     "data": {
      "text/plain": [
       "553672"
      ]
     },
     "execution_count": 24,
     "metadata": {},
     "output_type": "execute_result"
    }
   ],
   "source": [
    "df_data = df_data[abs(df_data['sexo']) > 0.6]\n",
    "len(df_data)"
   ]
  },
  {
   "cell_type": "markdown",
   "metadata": {},
   "source": [
    "Transform remuneracao in number"
   ]
  },
  {
   "cell_type": "code",
   "execution_count": 25,
   "metadata": {
    "collapsed": false
   },
   "outputs": [],
   "source": [
    "def to_number(x):\n",
    "    try:\n",
    "        return float(x.replace(\",\",\".\"))\n",
    "    except:\n",
    "        print x\n",
    "df_data['REMUNERACAO_BASICA_BRUTA'] = df_data['REMUNERACAO_BASICA_BRUTA'].apply(to_number)"
   ]
  },
  {
   "cell_type": "markdown",
   "metadata": {},
   "source": [
    "Put good names on sexo numbers"
   ]
  },
  {
   "cell_type": "code",
   "execution_count": 26,
   "metadata": {
    "collapsed": false
   },
   "outputs": [],
   "source": [
    "def namesexo(x):\n",
    "\n",
    "    if x > 0.6:\n",
    "        return 'Masc'\n",
    "    elif x < 0.6:\n",
    "        return 'Fem'\n",
    "    \n",
    "df_data['sexo2'] = df_data['sexo'].apply(namesexo)"
   ]
  },
  {
   "cell_type": "code",
   "execution_count": 28,
   "metadata": {
    "collapsed": false
   },
   "outputs": [],
   "source": [
    "df_data.to_csv('data/final/data_sexo_final.csv', encoding='latin1')"
   ]
  },
  {
   "cell_type": "code",
   "execution_count": null,
   "metadata": {
    "collapsed": true
   },
   "outputs": [],
   "source": []
  }
 ],
 "metadata": {
  "anaconda-cloud": {},
  "kernelspec": {
   "display_name": "Python [conda root]",
   "language": "python",
   "name": "conda-root-py"
  },
  "language_info": {
   "codemirror_mode": {
    "name": "ipython",
    "version": 2
   },
   "file_extension": ".py",
   "mimetype": "text/x-python",
   "name": "python",
   "nbconvert_exporter": "python",
   "pygments_lexer": "ipython2",
   "version": "2.7.12"
  }
 },
 "nbformat": 4,
 "nbformat_minor": 1
}
