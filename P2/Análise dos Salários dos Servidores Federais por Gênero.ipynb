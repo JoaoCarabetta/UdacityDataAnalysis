{
 "cells": [
  {
   "cell_type": "markdown",
   "metadata": {
    "nbpresent": {
     "id": "046f10ac-14e2-4f28-94a8-a1dd56d7a37a"
    }
   },
   "source": [
    "# Análise dos Salários dos Servidores Federais por Gênero\n",
    "\n",
    "Essa análise será feita com os dados do portal de Transparência do Governo Federal de Set/2016. Por simplicidade, somente o salário bruto foi analisado, mas é importante notar que ele não representa o salário real de ums servidor pois está sujeito a descontos e bonus. \n",
    "Como essa base de dados não disponibilizava a informação de gênero, esse campo foi inferido a partir da base de dados de candidatos do TSE. Para isso, comparou-se o primeiro nome com o gênero e calculou-se a probabilidade do nome ser de algum gênero usando o cálculo (masculino - feminino) / total_de_aparicoes . Por exemplo, \n",
    "\n",
    "João aparece 10 vezes como gênero masculino, então a probabilidade de so gênero ser masculino é 1.0\n",
    "\n",
    "Fabiani aparece 3 vezes como masculino e 2 como feminino, então a probabilidade é (3 - 2) / 5 = 0.2\n",
    "\n",
    "Maria, como João, só apareceu como feminino, então tem probabilidade - 1.0\n",
    "\n",
    "Assim, somente o valor absoluto de probabilidades maiores que 0.6 foram consideradas. Isso fez com que a base de  590,670 pessoas ficasse reduzida para 553,672 pessoas, uma diferença de 36,998 pessoas, 0.06%.  \n",
    "\n",
    "As perguntas respondidas são:\n",
    "\n",
    "**1. Qual é a proporção entre homens e mulheres tanto em número quanto em quantidade de dinheiro recebida?**\n",
    "\n",
    "**2. Existe diferença na média salarial entre gêneros? Se sim, ela é estatisticamente significativa?**\n",
    "\n",
    "**3. Da parcela de 1% que recebe mais, existe uma prevalência de gênero?**\n",
    "\n",
    "**4. Qual a variação de proporção entre homens e mulheres entre faixas salariais faixas salariais?**\n",
    "\n",
    "**5. Qual o índice gini da distribuição salarias? (EXTRA)**"
   ]
  },
  {
   "cell_type": "markdown",
   "metadata": {},
   "source": [
    "#### Fontes\n",
    " - Salários dos servidores federais: http://www.portaltransparencia.gov.br/downloads/servidores.asp\n",
    " - Base de dados do TSE: http://www.tse.jus.br/eleicoes/estatisticas/repositorio-de-dados-eleitorais"
   ]
  },
  {
   "cell_type": "code",
   "execution_count": 338,
   "metadata": {
    "collapsed": true,
    "nbpresent": {
     "id": "089ff991-d67f-4f03-86a1-57126421deda"
    }
   },
   "outputs": [],
   "source": [
    "# Main Imports\n",
    "import pandas as pd\n",
    "import matplotlib.pyplot as plt\n",
    "plt.style.use('classic')\n",
    "%matplotlib inline\n",
    "import seaborn as sns\n",
    "sns.set()"
   ]
  },
  {
   "cell_type": "code",
   "execution_count": 337,
   "metadata": {
    "collapsed": false,
    "nbpresent": {
     "id": "b9646284-5644-4ab1-88e6-fe945dc7146e"
    }
   },
   "outputs": [
    {
     "data": {
      "text/html": [
       "<div>\n",
       "<table border=\"1\" class=\"dataframe\">\n",
       "  <thead>\n",
       "    <tr style=\"text-align: right;\">\n",
       "      <th></th>\n",
       "      <th>index</th>\n",
       "      <th>NOME</th>\n",
       "      <th>ID_SERVIDOR_PORTAL</th>\n",
       "      <th>REMUNERACAO_BASICA_BRUTA</th>\n",
       "      <th>PRIMEIRO_NOME</th>\n",
       "      <th>sexo</th>\n",
       "      <th>sexo2</th>\n",
       "      <th>bins</th>\n",
       "    </tr>\n",
       "  </thead>\n",
       "  <tbody>\n",
       "    <tr>\n",
       "      <th>0</th>\n",
       "      <td>590669</td>\n",
       "      <td>LUIZ AUGUSTO NOBREGA BARROSO</td>\n",
       "      <td>2222257</td>\n",
       "      <td>0.0</td>\n",
       "      <td>luiz</td>\n",
       "      <td>0.998929</td>\n",
       "      <td>Masc</td>\n",
       "      <td>(-51.994, 5199.371]</td>\n",
       "    </tr>\n",
       "    <tr>\n",
       "      <th>1</th>\n",
       "      <td>417235</td>\n",
       "      <td>BRAULIO AUGUSTO BREIDENBACH PUPIM</td>\n",
       "      <td>1796860</td>\n",
       "      <td>0.0</td>\n",
       "      <td>braulio</td>\n",
       "      <td>1.000000</td>\n",
       "      <td>Masc</td>\n",
       "      <td>(-51.994, 5199.371]</td>\n",
       "    </tr>\n",
       "    <tr>\n",
       "      <th>2</th>\n",
       "      <td>123754</td>\n",
       "      <td>HENRIQUE COSTA DOS REIS</td>\n",
       "      <td>1237185</td>\n",
       "      <td>0.0</td>\n",
       "      <td>henrique</td>\n",
       "      <td>1.000000</td>\n",
       "      <td>Masc</td>\n",
       "      <td>(-51.994, 5199.371]</td>\n",
       "    </tr>\n",
       "    <tr>\n",
       "      <th>3</th>\n",
       "      <td>574426</td>\n",
       "      <td>TULIO MIRANDA BRANDO</td>\n",
       "      <td>2165070</td>\n",
       "      <td>0.0</td>\n",
       "      <td>tulio</td>\n",
       "      <td>1.000000</td>\n",
       "      <td>Masc</td>\n",
       "      <td>(-51.994, 5199.371]</td>\n",
       "    </tr>\n",
       "    <tr>\n",
       "      <th>4</th>\n",
       "      <td>123728</td>\n",
       "      <td>RITA DE CASSIA SOUSA CERQUEIRA</td>\n",
       "      <td>1237120</td>\n",
       "      <td>0.0</td>\n",
       "      <td>rita</td>\n",
       "      <td>-1.000000</td>\n",
       "      <td>Fem</td>\n",
       "      <td>(-51.994, 5199.371]</td>\n",
       "    </tr>\n",
       "  </tbody>\n",
       "</table>\n",
       "</div>"
      ],
      "text/plain": [
       "    index                               NOME  ID_SERVIDOR_PORTAL  \\\n",
       "0  590669       LUIZ AUGUSTO NOBREGA BARROSO             2222257   \n",
       "1  417235  BRAULIO AUGUSTO BREIDENBACH PUPIM             1796860   \n",
       "2  123754            HENRIQUE COSTA DOS REIS             1237185   \n",
       "3  574426               TULIO MIRANDA BRANDO             2165070   \n",
       "4  123728     RITA DE CASSIA SOUSA CERQUEIRA             1237120   \n",
       "\n",
       "   REMUNERACAO_BASICA_BRUTA PRIMEIRO_NOME      sexo sexo2                 bins  \n",
       "0                       0.0          luiz  0.998929  Masc  (-51.994, 5199.371]  \n",
       "1                       0.0       braulio  1.000000  Masc  (-51.994, 5199.371]  \n",
       "2                       0.0      henrique  1.000000  Masc  (-51.994, 5199.371]  \n",
       "3                       0.0         tulio  1.000000  Masc  (-51.994, 5199.371]  \n",
       "4                       0.0          rita -1.000000   Fem  (-51.994, 5199.371]  "
      ]
     },
     "execution_count": 337,
     "metadata": {},
     "output_type": "execute_result"
    }
   ],
   "source": [
    "# import data\n",
    "df_data.to_csv('../data/final/data_sexo_final.csv', index=False)\n",
    "df_data.head()"
   ]
  },
  {
   "cell_type": "code",
   "execution_count": 339,
   "metadata": {
    "collapsed": false,
    "nbpresent": {
     "id": "01049905-3394-474d-8b1c-6f81f3077dd7"
    }
   },
   "outputs": [],
   "source": [
    "import plotly.plotly as py\n",
    "import cufflinks as cf"
   ]
  },
  {
   "cell_type": "code",
   "execution_count": 340,
   "metadata": {
    "collapsed": false,
    "nbpresent": {
     "id": "a87856ac-41c9-4719-b406-94456c190c8f"
    }
   },
   "outputs": [
    {
     "data": {
      "text/plain": [
       "sexo2       \n",
       "Fem    count    240614.000000\n",
       "       mean       8272.953188\n",
       "       std        5365.910239\n",
       "       min           0.000000\n",
       "       25%        4577.990000\n",
       "       50%        6735.820000\n",
       "       75%       10640.027500\n",
       "       max       48939.460000\n",
       "Masc   count    313058.000000\n",
       "       mean       9195.915146\n",
       "       std        6050.270430\n",
       "       min           0.000000\n",
       "       25%        4872.920000\n",
       "       50%        7257.470000\n",
       "       75%       12025.682500\n",
       "       max       51993.710000\n",
       "Name: REMUNERACAO_BASICA_BRUTA, dtype: float64"
      ]
     },
     "execution_count": 340,
     "metadata": {},
     "output_type": "execute_result"
    }
   ],
   "source": [
    "# Estatística Descritiva dos gêneros\n",
    "df_data.groupby('sexo2').describe()[\"REMUNERACAO_BASICA_BRUTA\"]"
   ]
  },
  {
   "cell_type": "markdown",
   "metadata": {
    "nbpresent": {
     "id": "0a3e866b-25a2-4e20-bd1b-cdb45bdc170a"
    }
   },
   "source": [
    "### 1. Qual é a proporção entre homens e mulheres tanto em número quanto em quantidade de dinheiro recebida?"
   ]
  },
  {
   "cell_type": "markdown",
   "metadata": {
    "nbpresent": {
     "id": "041cad07-f9e0-4537-be04-c1ffc7bf08d7"
    }
   },
   "source": [
    "#### Em número de pessoas"
   ]
  },
  {
   "cell_type": "code",
   "execution_count": 341,
   "metadata": {
    "collapsed": false,
    "nbpresent": {
     "id": "30df255a-cc89-416b-9d41-4b28c1607daa"
    }
   },
   "outputs": [
    {
     "name": "stdout",
     "output_type": "stream",
     "text": [
      "Qtdade Homens:  858 \n",
      "Qtdade Mulheres:  559\n",
      "Proporçao:  1.53488372093 homem para cada mulher\n"
     ]
    },
    {
     "data": {
      "image/png": "[encoded data removed]",
      "text/plain": [
       "<matplotlib.figure.Figure at 0x169c8d590>"
      ]
     },
     "metadata": {},
     "output_type": "display_data"
    }
   ],
   "source": [
    "df_gender = df_data.groupby('sexo2').count()['sexo']\n",
    "df_gender.plot(kind='barh')\n",
    "\n",
    "print \"Qtdade Homens: \", len_homem, \"\\nQtdade Mulheres: \", len_mulher\n",
    "print \"Proporçao: \", float(len_homem) / float(len_mulher), \"homem para cada mulher\""
   ]
  },
  {
   "cell_type": "markdown",
   "metadata": {
    "nbpresent": {
     "id": "0164fe6c-bd7f-4e95-9a59-06c9b18b9dc4"
    }
   },
   "source": [
    "#### Em renda"
   ]
  },
  {
   "cell_type": "code",
   "execution_count": 342,
   "metadata": {
    "collapsed": false,
    "nbpresent": {
     "id": "2fcdc442-afa9-4364-8858-93217d9af766"
    }
   },
   "outputs": [
    {
     "name": "stdout",
     "output_type": "stream",
     "text": [
      "Renda dos  Homens:  2878854803.73 reais \n",
      "Renda das Mulheres:  1990588358.47 reais\n",
      "Proporçao:  1.44623311569 real de homem para cada real de mulher\n"
     ]
    },
    {
     "data": {
      "image/png": "[encoded data removed]",
      "text/plain": [
       "<matplotlib.figure.Figure at 0x169239c10>"
      ]
     },
     "metadata": {},
     "output_type": "display_data"
    }
   ],
   "source": [
    "df_gender = df_data.groupby('sexo2').sum()['REMUNERACAO_BASICA_BRUTA']\n",
    "df_gender.plot(kind='barh')\n",
    "\n",
    "print \"Renda dos  Homens: \", df_gender.iloc[1], \"reais \\nRenda das Mulheres: \", df_gender.iloc[0], 'reais'\n",
    "print \"Proporçao: \", df_gender.iloc[1] / df_gender.iloc[0], \"real de homem para cada real de mulher\""
   ]
  },
  {
   "cell_type": "markdown",
   "metadata": {
    "nbpresent": {
     "id": "7d7ca83a-043b-4cb6-a4e5-83b2a4fc6363"
    }
   },
   "source": [
    "## 2. Existe diferença na média salarial entre gêneros? Se sim, ela é estatisticamente significativa?\n",
    "\n",
    "A média salarial dos gêneros é:\n",
    "\n",
    "R\\$ 8272 para Mulheres com desvio padrão de R\\$ 5365. 8 10\n",
    "\n",
    "R\\$ 9195 para Homens com desvio padrão de R\\$ 6050"
   ]
  },
  {
   "cell_type": "markdown",
   "metadata": {
    "nbpresent": {
     "id": "845d6897-adcb-44fb-a0f8-94062ded18ee"
    }
   },
   "source": [
    "** Algumas opções de vizualição da distribuição de salários entre homens e mulheres **"
   ]
  },
  {
   "cell_type": "code",
   "execution_count": 343,
   "metadata": {
    "collapsed": false,
    "nbpresent": {
     "id": "8b95f16e-01f7-48ed-b7d4-11fa5c87a633"
    },
    "scrolled": true
   },
   "outputs": [
    {
     "data": {
      "image/png": "[encoded data removed]",
      "text/plain": [
       "<matplotlib.figure.Figure at 0x16408da10>"
      ]
     },
     "metadata": {},
     "output_type": "display_data"
    }
   ],
   "source": [
    "for i in ['Fem','Masc']:\n",
    "    plt.hist(df_data[df_data['sexo2'] == i]['REMUNERACAO_BASICA_BRUTA'], alpha=0.5, bins=50)\n",
    "    #sns.kdeplot(df_data[df_data['sexo'] == i]['REMUNERACAO_BASICA_BRUTA'], shade=True)\n",
    "    #sns.distplot(df_data[df_data['sexo'] == i]['REMUNERACAO_BASICA_BRUTA'], bins=50)"
   ]
  },
  {
   "cell_type": "code",
   "execution_count": 344,
   "metadata": {
    "collapsed": false,
    "nbpresent": {
     "id": "5208db99-950a-4eaf-92cc-72ed8f049f50"
    }
   },
   "outputs": [
    {
     "data": {
      "text/plain": [
       "<seaborn.axisgrid.FacetGrid at 0x13730a110>"
      ]
     },
     "execution_count": 344,
     "metadata": {},
     "output_type": "execute_result"
    },
    {
     "data": {
      "image/png": "[encoded data removed]",
      "text/plain": [
       "<matplotlib.figure.Figure at 0x137301dd0>"
      ]
     },
     "metadata": {},
     "output_type": "display_data"
    }
   ],
   "source": [
    "import numpy as np\n",
    "g = sns.FacetGrid(df_data, row=\"sexo2\", margin_titles=True)\n",
    "\n",
    "g.map(plt.hist, 'REMUNERACAO_BASICA_BRUTA', color=\"steelblue\", bins=50, lw=0)"
   ]
  },
  {
   "cell_type": "code",
   "execution_count": 345,
   "metadata": {
    "collapsed": false,
    "nbpresent": {
     "id": "624238cd-b380-4599-bd19-b22ad8326b32"
    },
    "scrolled": true
   },
   "outputs": [
    {
     "data": {
      "image/png": "[encoded data removed]",
      "text/plain": [
       "<matplotlib.figure.Figure at 0x13a185bd0>"
      ]
     },
     "metadata": {},
     "output_type": "display_data"
    }
   ],
   "source": [
    "sns.violinplot(\"sexo2\", 'REMUNERACAO_BASICA_BRUTA', data=df_data, palette=[\"lightblue\", \"lightpink\"], inner=\"quartile\");"
   ]
  },
  {
   "cell_type": "code",
   "execution_count": 346,
   "metadata": {
    "collapsed": false,
    "nbpresent": {
     "id": "30c26401-4a1b-4ad8-97c6-c075fffc8433"
    }
   },
   "outputs": [
    {
     "data": {
      "text/plain": [
       "{'boxes': [<matplotlib.lines.Line2D at 0x13713ff50>,\n",
       "  <matplotlib.lines.Line2D at 0x137841e50>],\n",
       " 'caps': [<matplotlib.lines.Line2D at 0x12c647f50>,\n",
       "  <matplotlib.lines.Line2D at 0x12c647b90>,\n",
       "  <matplotlib.lines.Line2D at 0x12af68d50>,\n",
       "  <matplotlib.lines.Line2D at 0x12af687d0>],\n",
       " 'fliers': [<matplotlib.lines.Line2D at 0x137850350>,\n",
       "  <matplotlib.lines.Line2D at 0x12c8a6bd0>],\n",
       " 'means': [],\n",
       " 'medians': [<matplotlib.lines.Line2D at 0x12c647cd0>,\n",
       "  <matplotlib.lines.Line2D at 0x16939e9d0>],\n",
       " 'whiskers': [<matplotlib.lines.Line2D at 0x1371b7ed0>,\n",
       "  <matplotlib.lines.Line2D at 0x1371b7690>,\n",
       "  <matplotlib.lines.Line2D at 0x137841fd0>,\n",
       "  <matplotlib.lines.Line2D at 0x140b85390>]}"
      ]
     },
     "execution_count": 346,
     "metadata": {},
     "output_type": "execute_result"
    },
    {
     "data": {
      "image/png": "[encoded data removed]",
      "text/plain": [
       "<matplotlib.figure.Figure at 0x136d14e10>"
      ]
     },
     "metadata": {},
     "output_type": "display_data"
    }
   ],
   "source": [
    "plt.boxplot([homem_rem, mulher_rem])"
   ]
  },
  {
   "cell_type": "markdown",
   "metadata": {
    "nbpresent": {
     "id": "4e88a209-e10b-493e-8e52-f3354944a162"
    }
   },
   "source": [
    "##### Teste de hipótese para saber se a diferença na média salarial é significante. \n",
    "\n",
    "Sendo μ1 a média salarials dos homens e μ2 a média salarial das mulheres, as hipóteses serão:\n",
    "\n",
    "    H0: μ1 = μ2\n",
    "    H1: μ1< μ2 or\n",
    "    H1: μ1> μ2 or\n",
    "    H1: μ1≠ μ2\n",
    "    \n",
    "Mas como o valor P calculado é de 0, \n",
    "##### a chance dessa diferença de salários ser por variação estatística é nula.\n"
   ]
  },
  {
   "cell_type": "code",
   "execution_count": 347,
   "metadata": {
    "collapsed": true,
    "nbpresent": {
     "id": "9e74e5e0-89b0-4acb-a378-2f50633fd4d2"
    }
   },
   "outputs": [],
   "source": [
    "from scipy import stats"
   ]
  },
  {
   "cell_type": "code",
   "execution_count": 348,
   "metadata": {
    "collapsed": false,
    "nbpresent": {
     "id": "a372d150-1f25-481a-b9d1-f153f36aaacc"
    }
   },
   "outputs": [],
   "source": [
    "homem_rem = df_data[df_data['sexo2'] == 'Masc']['REMUNERACAO_BASICA_BRUTA']\n",
    "mulher_rem = df_data[df_data['sexo2'] == 'Fem']['REMUNERACAO_BASICA_BRUTA']"
   ]
  },
  {
   "cell_type": "code",
   "execution_count": 349,
   "metadata": {
    "collapsed": false,
    "nbpresent": {
     "id": "14c42e1b-8265-4f32-a216-118f7b395080"
    }
   },
   "outputs": [
    {
     "name": "stdout",
     "output_type": "stream",
     "text": [
      "Valor P: 0.0\n"
     ]
    }
   ],
   "source": [
    "stat, valor_p = stats.ttest_ind(homem_rem, mulher_rem) \n",
    "print 'Valor P:', valor_p"
   ]
  },
  {
   "cell_type": "markdown",
   "metadata": {
    "nbpresent": {
     "id": "0fc4ca2d-4509-4d51-9f97-fb7af27fff95"
    }
   },
   "source": [
    "### 3. Da parcela de 1% que recebe mais, existe uma prevalência de gênero?\n",
    "\n",
    "Existem mais homens do que mulheres,\n",
    "Qtdade Homens:  858 \n",
    "Qtdade Mulheres:  559\n",
    "Proporçao:  1.53488372093 homem para cada mulher\n",
    "\n",
    "Mas a diferença entre média salarial é mais equilibrada, com valor p de 0.15. Porém, ainda é o lado da mulher que pende para o menor"
   ]
  },
  {
   "cell_type": "code",
   "execution_count": 350,
   "metadata": {
    "collapsed": false,
    "nbpresent": {
     "id": "11628fc0-3de7-4cc2-b0b8-dde14c310a6a"
    }
   },
   "outputs": [],
   "source": [
    "# find out where the  1% salary starts\n",
    "def get_perc(data, perc):\n",
    "    \n",
    "    perc_total = data.sum() * perc * 0.01\n",
    "    \n",
    "    data = data.sort_values(ascending=False).reset_index()\n",
    "    \n",
    "    sumed = 0\n",
    "    for i, row in data.iterrows():\n",
    "        \n",
    "        if sumed < perc_total:\n",
    "            sumed = sumed + row['REMUNERACAO_BASICA_BRUTA']  \n",
    "            \n",
    "        else:\n",
    "            return row['REMUNERACAO_BASICA_BRUTA'] \n",
    "    \n",
    "min_sal_10_masc = get_perc(df_data[df_data[\"sexo2\"] == 'Masc']['REMUNERACAO_BASICA_BRUTA'], 1)\n",
    "min_sal_10_fem = get_perc(df_data[df_data[\"sexo2\"] == 'Fem']['REMUNERACAO_BASICA_BRUTA'], 1)"
   ]
  },
  {
   "cell_type": "code",
   "execution_count": 351,
   "metadata": {
    "collapsed": true,
    "nbpresent": {
     "id": "d541fca1-2f59-48c6-8a3b-9702dff41f20"
    }
   },
   "outputs": [],
   "source": [
    "df_data_10_masc = df_data[(df_data['REMUNERACAO_BASICA_BRUTA'] > min_sal_10_masc) & \n",
    "                         (df_data['sexo2'] == 'Masc')]\n",
    "df_data_10_fem = df_data[(df_data['REMUNERACAO_BASICA_BRUTA'] > min_sal_10_fem) & \n",
    "                         (df_data['sexo2'] == 'Fem')]"
   ]
  },
  {
   "cell_type": "code",
   "execution_count": 352,
   "metadata": {
    "collapsed": false,
    "nbpresent": {
     "id": "befd4f7e-c2f7-419b-8965-6b0e7eb0a776"
    }
   },
   "outputs": [
    {
     "name": "stdout",
     "output_type": "stream",
     "text": [
      "Qtdade Homens:  858 \n",
      "Qtdade Mulheres:  559\n",
      "Proporçao:  1.53488372093 homem para cada mulher\n"
     ]
    },
    {
     "data": {
      "image/png": "[encoded data removed]",
      "text/plain": [
       "<matplotlib.figure.Figure at 0x136dc1f90>"
      ]
     },
     "metadata": {},
     "output_type": "display_data"
    }
   ],
   "source": [
    "len_homem = len(df_data_10_masc)\n",
    "len_mulher = len(df_data_10_fem)\n",
    "\n",
    "df_gender = pd.DataFrame([len_homem, len_mulher], index=[\"Masc\", \"Fem\"]).transpose()\n",
    "df_gender.plot(kind='barh')\n",
    "print \"Qtdade Homens: \", len_homem, \"\\nQtdade Mulheres: \", len_mulher\n",
    "print \"Proporçao: \", float(len_homem) / float(len_mulher), \"homem para cada mulher\""
   ]
  },
  {
   "cell_type": "code",
   "execution_count": 353,
   "metadata": {
    "collapsed": false,
    "nbpresent": {
     "id": "ebb8e84d-74af-46ab-a9fe-df5db2c91ade"
    },
    "scrolled": true
   },
   "outputs": [
    {
     "data": {
      "text/plain": [
       "(array([ 44.,  44.,  31.,  29.,  31.,  20.,  88.,  19.,  11.,  11.,  30.,\n",
       "         14.,  17.,  21.,  21.,  17.,  11.,  10.,  12.,   7.,   5.,   1.,\n",
       "         10.,   9.,   3.,   5.,   2.,   3.,   2.,   3.,   4.,   0.,   3.,\n",
       "          2.,   5.,   3.,   2.,   0.,   0.,   1.,   1.,   1.,   0.,   2.,\n",
       "          0.,   1.,   1.,   1.,   0.,   1.]),\n",
       " array([ 29254.69  ,  29648.3854,  30042.0808,  30435.7762,  30829.4716,\n",
       "         31223.167 ,  31616.8624,  32010.5578,  32404.2532,  32797.9486,\n",
       "         33191.644 ,  33585.3394,  33979.0348,  34372.7302,  34766.4256,\n",
       "         35160.121 ,  35553.8164,  35947.5118,  36341.2072,  36734.9026,\n",
       "         37128.598 ,  37522.2934,  37915.9888,  38309.6842,  38703.3796,\n",
       "         39097.075 ,  39490.7704,  39884.4658,  40278.1612,  40671.8566,\n",
       "         41065.552 ,  41459.2474,  41852.9428,  42246.6382,  42640.3336,\n",
       "         43034.029 ,  43427.7244,  43821.4198,  44215.1152,  44608.8106,\n",
       "         45002.506 ,  45396.2014,  45789.8968,  46183.5922,  46577.2876,\n",
       "         46970.983 ,  47364.6784,  47758.3738,  48152.0692,  48545.7646,\n",
       "         48939.46  ]),\n",
       " <a list of 50 Patch objects>)"
      ]
     },
     "execution_count": 353,
     "metadata": {},
     "output_type": "execute_result"
    },
    {
     "data": {
      "image/png": "[encoded data removed]",
      "text/plain": [
       "<matplotlib.figure.Figure at 0x136dceb90>"
      ]
     },
     "metadata": {},
     "output_type": "display_data"
    }
   ],
   "source": [
    "plt.hist(df_data_10_masc['REMUNERACAO_BASICA_BRUTA'], alpha=0.5, bins=50)\n",
    "plt.hist(df_data_10_fem['REMUNERACAO_BASICA_BRUTA'], alpha=0.5, bins=50)"
   ]
  },
  {
   "cell_type": "markdown",
   "metadata": {
    "nbpresent": {
     "id": "927e79d8-cae4-49bc-9bec-1eb5a65fb7fe"
    }
   },
   "source": [
    "Describe Homem x Mulher"
   ]
  },
  {
   "cell_type": "code",
   "execution_count": 354,
   "metadata": {
    "collapsed": false,
    "nbpresent": {
     "id": "24b4248d-4c25-4147-b490-e0e34d53209e"
    }
   },
   "outputs": [
    {
     "data": {
      "text/html": [
       "<div>\n",
       "<table border=\"1\" class=\"dataframe\">\n",
       "  <thead>\n",
       "    <tr style=\"text-align: right;\">\n",
       "      <th></th>\n",
       "      <th>index</th>\n",
       "      <th>ID_SERVIDOR_PORTAL</th>\n",
       "      <th>REMUNERACAO_BASICA_BRUTA</th>\n",
       "      <th>sexo</th>\n",
       "    </tr>\n",
       "  </thead>\n",
       "  <tbody>\n",
       "    <tr>\n",
       "      <th>count</th>\n",
       "      <td>858.000000</td>\n",
       "      <td>8.580000e+02</td>\n",
       "      <td>858.000000</td>\n",
       "      <td>858.000000</td>\n",
       "    </tr>\n",
       "    <tr>\n",
       "      <th>mean</th>\n",
       "      <td>284455.861305</td>\n",
       "      <td>1.544726e+06</td>\n",
       "      <td>33561.125338</td>\n",
       "      <td>0.997704</td>\n",
       "    </tr>\n",
       "    <tr>\n",
       "      <th>std</th>\n",
       "      <td>164183.087311</td>\n",
       "      <td>3.158089e+05</td>\n",
       "      <td>3238.872737</td>\n",
       "      <td>0.013659</td>\n",
       "    </tr>\n",
       "    <tr>\n",
       "      <th>min</th>\n",
       "      <td>127.000000</td>\n",
       "      <td>1.000230e+06</td>\n",
       "      <td>30208.290000</td>\n",
       "      <td>0.692308</td>\n",
       "    </tr>\n",
       "    <tr>\n",
       "      <th>25%</th>\n",
       "      <td>151190.250000</td>\n",
       "      <td>1.289264e+06</td>\n",
       "      <td>31555.937500</td>\n",
       "      <td>0.998535</td>\n",
       "    </tr>\n",
       "    <tr>\n",
       "      <th>50%</th>\n",
       "      <td>282605.500000</td>\n",
       "      <td>1.539550e+06</td>\n",
       "      <td>32286.680000</td>\n",
       "      <td>0.999674</td>\n",
       "    </tr>\n",
       "    <tr>\n",
       "      <th>75%</th>\n",
       "      <td>425716.000000</td>\n",
       "      <td>1.813067e+06</td>\n",
       "      <td>34906.885000</td>\n",
       "      <td>1.000000</td>\n",
       "    </tr>\n",
       "    <tr>\n",
       "      <th>max</th>\n",
       "      <td>587741.000000</td>\n",
       "      <td>2.217091e+06</td>\n",
       "      <td>51993.710000</td>\n",
       "      <td>1.000000</td>\n",
       "    </tr>\n",
       "  </tbody>\n",
       "</table>\n",
       "</div>"
      ],
      "text/plain": [
       "               index  ID_SERVIDOR_PORTAL  REMUNERACAO_BASICA_BRUTA        sexo\n",
       "count     858.000000        8.580000e+02                858.000000  858.000000\n",
       "mean   284455.861305        1.544726e+06              33561.125338    0.997704\n",
       "std    164183.087311        3.158089e+05               3238.872737    0.013659\n",
       "min       127.000000        1.000230e+06              30208.290000    0.692308\n",
       "25%    151190.250000        1.289264e+06              31555.937500    0.998535\n",
       "50%    282605.500000        1.539550e+06              32286.680000    0.999674\n",
       "75%    425716.000000        1.813067e+06              34906.885000    1.000000\n",
       "max    587741.000000        2.217091e+06              51993.710000    1.000000"
      ]
     },
     "execution_count": 354,
     "metadata": {},
     "output_type": "execute_result"
    }
   ],
   "source": [
    "df_data_10_masc.describe()"
   ]
  },
  {
   "cell_type": "code",
   "execution_count": 355,
   "metadata": {
    "collapsed": false,
    "nbpresent": {
     "id": "00262776-89f5-4e2c-8f96-519dad434c30"
    }
   },
   "outputs": [
    {
     "data": {
      "text/html": [
       "<div>\n",
       "<table border=\"1\" class=\"dataframe\">\n",
       "  <thead>\n",
       "    <tr style=\"text-align: right;\">\n",
       "      <th></th>\n",
       "      <th>index</th>\n",
       "      <th>ID_SERVIDOR_PORTAL</th>\n",
       "      <th>REMUNERACAO_BASICA_BRUTA</th>\n",
       "      <th>sexo</th>\n",
       "    </tr>\n",
       "  </thead>\n",
       "  <tbody>\n",
       "    <tr>\n",
       "      <th>count</th>\n",
       "      <td>559.000000</td>\n",
       "      <td>5.590000e+02</td>\n",
       "      <td>559.000000</td>\n",
       "      <td>559.000000</td>\n",
       "    </tr>\n",
       "    <tr>\n",
       "      <th>mean</th>\n",
       "      <td>282157.577818</td>\n",
       "      <td>1.539955e+06</td>\n",
       "      <td>33295.721646</td>\n",
       "      <td>-0.996503</td>\n",
       "    </tr>\n",
       "    <tr>\n",
       "      <th>std</th>\n",
       "      <td>168648.403250</td>\n",
       "      <td>3.235618e+05</td>\n",
       "      <td>3618.310154</td>\n",
       "      <td>0.018681</td>\n",
       "    </tr>\n",
       "    <tr>\n",
       "      <th>min</th>\n",
       "      <td>226.000000</td>\n",
       "      <td>1.000434e+06</td>\n",
       "      <td>29254.690000</td>\n",
       "      <td>-1.000000</td>\n",
       "    </tr>\n",
       "    <tr>\n",
       "      <th>25%</th>\n",
       "      <td>133134.000000</td>\n",
       "      <td>1.254944e+06</td>\n",
       "      <td>30759.200000</td>\n",
       "      <td>-1.000000</td>\n",
       "    </tr>\n",
       "    <tr>\n",
       "      <th>50%</th>\n",
       "      <td>286477.000000</td>\n",
       "      <td>1.546885e+06</td>\n",
       "      <td>31931.620000</td>\n",
       "      <td>-1.000000</td>\n",
       "    </tr>\n",
       "    <tr>\n",
       "      <th>75%</th>\n",
       "      <td>426949.000000</td>\n",
       "      <td>1.815436e+06</td>\n",
       "      <td>34934.790000</td>\n",
       "      <td>-0.998116</td>\n",
       "    </tr>\n",
       "    <tr>\n",
       "      <th>max</th>\n",
       "      <td>588767.000000</td>\n",
       "      <td>2.219864e+06</td>\n",
       "      <td>48939.460000</td>\n",
       "      <td>-0.666667</td>\n",
       "    </tr>\n",
       "  </tbody>\n",
       "</table>\n",
       "</div>"
      ],
      "text/plain": [
       "               index  ID_SERVIDOR_PORTAL  REMUNERACAO_BASICA_BRUTA        sexo\n",
       "count     559.000000        5.590000e+02                559.000000  559.000000\n",
       "mean   282157.577818        1.539955e+06              33295.721646   -0.996503\n",
       "std    168648.403250        3.235618e+05               3618.310154    0.018681\n",
       "min       226.000000        1.000434e+06              29254.690000   -1.000000\n",
       "25%    133134.000000        1.254944e+06              30759.200000   -1.000000\n",
       "50%    286477.000000        1.546885e+06              31931.620000   -1.000000\n",
       "75%    426949.000000        1.815436e+06              34934.790000   -0.998116\n",
       "max    588767.000000        2.219864e+06              48939.460000   -0.666667"
      ]
     },
     "execution_count": 355,
     "metadata": {},
     "output_type": "execute_result"
    }
   ],
   "source": [
    "df_data_10_fem.describe()"
   ]
  },
  {
   "cell_type": "code",
   "execution_count": 356,
   "metadata": {
    "collapsed": false,
    "nbpresent": {
     "id": "0524faa7-eaf4-4160-8d0a-bbc8fe5ed83c"
    }
   },
   "outputs": [
    {
     "name": "stdout",
     "output_type": "stream",
     "text": [
      "O valor p é: 0.1504151966\n"
     ]
    }
   ],
   "source": [
    "stat, valor_p = stats.ttest_ind(df_data_10_fem['REMUNERACAO_BASICA_BRUTA'], df_data_10_masc['REMUNERACAO_BASICA_BRUTA']) \n",
    "print \"O valor p é:\", valor_p"
   ]
  },
  {
   "cell_type": "markdown",
   "metadata": {
    "nbpresent": {
     "id": "36612c90-3ff6-492b-9806-4075fcffa6d0"
    }
   },
   "source": [
    "### 4. Qual a variação de proporção entre homens e mulheres entre faixas salariais faixas salariais?\n",
    "\n",
    "O gráfico mostra que há uma prevalência de homens em todas as faixas salariais. Porém, há uma proporção maior de homens nas faixas médias, entre 20000 e 40000."
   ]
  },
  {
   "cell_type": "code",
   "execution_count": 357,
   "metadata": {
    "collapsed": false,
    "nbpresent": {
     "id": "6dad9dc0-9c99-41d3-8f69-1a09bb1987e3"
    }
   },
   "outputs": [],
   "source": [
    "df_data = df_data.sort_values(by=\"REMUNERACAO_BASICA_BRUTA\").reset_index()\n",
    "df_data['bins'] = pd.cut(df_data[\"REMUNERACAO_BASICA_BRUTA\"], 10)"
   ]
  },
  {
   "cell_type": "code",
   "execution_count": 358,
   "metadata": {
    "collapsed": false,
    "nbpresent": {
     "id": "5bff2535-ca1b-418f-83bd-23651255935e"
    }
   },
   "outputs": [],
   "source": [
    "def proportion(x):\n",
    "    \n",
    "    total = float(len(x))\n",
    "    if total > 0:\n",
    "        \n",
    "        len_homem = len(x[x['sexo2'] == 'Masc']) / total\n",
    "        len_mulher = len(x[x['sexo2'] == 'Fem']) / total   \n",
    "        return len_homem, len_mulher\n",
    "\n",
    "    else:\n",
    "        return None, None\n",
    "    \n",
    "df_prop = df_data.groupby('bins').apply(proportion)\n",
    "df_prop = df_prop.reset_index()"
   ]
  },
  {
   "cell_type": "code",
   "execution_count": 359,
   "metadata": {
    "collapsed": false,
    "nbpresent": {
     "id": "9c474903-bc59-4d53-9935-d40fda8b326c"
    }
   },
   "outputs": [],
   "source": [
    "def get_mean(x):\n",
    "    x = x.replace(\"(\", \"\")\n",
    "    x = x.replace(\"]\", \"\")\n",
    "    a, b = x.split(\",\")\n",
    "    a, b = float(a), float(b)\n",
    "    \n",
    "    return (a + b) / 2\n",
    "    \n",
    "df_prop['bins'] = df_prop['bins'].apply(get_mean)"
   ]
  },
  {
   "cell_type": "code",
   "execution_count": 360,
   "metadata": {
    "collapsed": false,
    "nbpresent": {
     "id": "792045b2-0ee9-41c6-8f63-644a4b9d0bce"
    }
   },
   "outputs": [],
   "source": [
    "df_prop['Prop_Homens'] = df_prop[0].apply(lambda x: x[0])\n",
    "df_prop['Prop_Mulheres'] = df_prop[0].apply(lambda x: x[1])\n",
    "del df_prop[0]"
   ]
  },
  {
   "cell_type": "code",
   "execution_count": 361,
   "metadata": {
    "collapsed": false,
    "nbpresent": {
     "id": "a6994f0c-82af-47b0-bef6-b83c42dc2855"
    }
   },
   "outputs": [
    {
     "data": {
      "text/plain": [
       "<matplotlib.legend.Legend at 0x172fe5350>"
      ]
     },
     "execution_count": 361,
     "metadata": {},
     "output_type": "execute_result"
    },
    {
     "data": {
      "image/png": "[encoded data removed]",
      "text/plain": [
       "<matplotlib.figure.Figure at 0x13c0251d0>"
      ]
     },
     "metadata": {},
     "output_type": "display_data"
    }
   ],
   "source": [
    "width = 2000\n",
    "p1 = plt.bar(list(df_prop['bins']), list(df_prop['Prop_Mulheres']),width, color='r')\n",
    "p2 = plt.bar(list(df_prop['bins']), list(df_prop['Prop_Homens']), width, bottom=list(df_prop['Prop_Mulheres']))\n",
    "\n",
    "plt.legend((p1[0], p2[0]), ('Mulher','Homem'))"
   ]
  },
  {
   "cell_type": "code",
   "execution_count": 362,
   "metadata": {
    "collapsed": false,
    "nbpresent": {
     "id": "4b0b4b2d-bd60-4011-a236-c65374979a5b"
    }
   },
   "outputs": [
    {
     "data": {
      "text/plain": [
       "<matplotlib.legend.Legend at 0x12c619610>"
      ]
     },
     "execution_count": 362,
     "metadata": {},
     "output_type": "execute_result"
    },
    {
     "data": {
      "image/png": "[encoded data removed]",
      "text/plain": [
       "<matplotlib.figure.Figure at 0x135d54c90>"
      ]
     },
     "metadata": {},
     "output_type": "display_data"
    }
   ],
   "source": [
    "p1 = df_data[df_data['sexo2'] == 'Masc']['REMUNERACAO_BASICA_BRUTA']\n",
    "p2 = df_data[df_data['sexo2'] == 'Fem']['REMUNERACAO_BASICA_BRUTA']\n",
    "\n",
    "plt.hist([p1,p2], stacked=True, color=['blue', 'red'])\n",
    "plt.legend(('Homem','Mulher'))"
   ]
  },
  {
   "cell_type": "markdown",
   "metadata": {
    "nbpresent": {
     "id": "bbd882d8-7a3b-40bd-bf77-6ab88adb6b31"
    }
   },
   "source": [
    "### 5. Qual o índice gini da distribuição salarias? (extra)\n",
    "\n",
    "O índice Gini mede a desigualdade de renda num certo contexto, no qual 0 é totalmente igual e 1 é totalmente desigual. \n",
    "\n",
    "No salário dos servidores federais o índice é de 0.34, que é relativamente baixo em comparação com o Brasil 0,526."
   ]
  },
  {
   "cell_type": "code",
   "execution_count": 363,
   "metadata": {
    "collapsed": true,
    "nbpresent": {
     "id": "2928c824-2736-4c28-af0d-2f61f699bedc"
    }
   },
   "outputs": [],
   "source": [
    "def gini(list_of_values):\n",
    "    sorted_list = sorted(list_of_values)\n",
    "    height, area = 0, 0\n",
    "    for value in sorted_list:\n",
    "        height += value\n",
    "        area += height - value / 2.\n",
    "    fair_area = height * len(list_of_values) / 2.\n",
    "    return (fair_area - area) / fair_area"
   ]
  },
  {
   "cell_type": "code",
   "execution_count": 364,
   "metadata": {
    "collapsed": false,
    "nbpresent": {
     "id": "971ed0ec-af51-4d64-b044-d3534346c85e"
    }
   },
   "outputs": [],
   "source": [
    "df_gini = pd.read_csv('../data/process/primeiro_nome.csv', index_col='Unnamed: 0')"
   ]
  },
  {
   "cell_type": "code",
   "execution_count": 365,
   "metadata": {
    "collapsed": false,
    "nbpresent": {
     "id": "eb15538d-9cc3-4afd-8e79-af21b3d72dd4"
    }
   },
   "outputs": [],
   "source": [
    "def to_number(x):\n",
    "    try:\n",
    "        return float(x.replace(\",\",\".\"))\n",
    "    except:\n",
    "        print x\n",
    "df_gini['REMUNERACAO_BASICA_BRUTA'] = df_gini['REMUNERACAO_BASICA_BRUTA'].apply(to_number)"
   ]
  },
  {
   "cell_type": "code",
   "execution_count": 366,
   "metadata": {
    "collapsed": false,
    "nbpresent": {
     "id": "05977096-bcdd-4d5c-82f3-36691be7fbfd"
    }
   },
   "outputs": [
    {
     "data": {
      "text/plain": [
       "0.34804747891240584"
      ]
     },
     "execution_count": 366,
     "metadata": {},
     "output_type": "execute_result"
    }
   ],
   "source": [
    "gini(df_gini['REMUNERACAO_BASICA_BRUTA'])"
   ]
  }
 ],
 "metadata": {
  "anaconda-cloud": {},
  "kernelspec": {
   "display_name": "Python [conda root]",
   "language": "python",
   "name": "conda-root-py"
  },
  "language_info": {
   "codemirror_mode": {
    "name": "ipython",
    "version": 2
   },
   "file_extension": ".py",
   "mimetype": "text/x-python",
   "name": "python",
   "nbconvert_exporter": "python",
   "pygments_lexer": "ipython2",
   "version": "2.7.12"
  },
  "nbpresent": {
   "slides": {
    "01101fe3-a6b9-4483-a7ba-090297aa4f78": {
     "id": "01101fe3-a6b9-4483-a7ba-090297aa4f78",
     "prev": "21b6703c-9590-4373-8e10-6114d8eb69d0",
     "regions": {
      "ba40be8f-7b17-4d39-92e0-797550bc8535": {
       "attrs": {
        "height": 0.8,
        "width": 0.8,
        "x": 0.1,
        "y": 0.1
       },
       "content": {
        "cell": "82d2d8fb-8b01-4e01-bde7-c3789a69db6d",
        "part": "whole"
       },
       "id": "ba40be8f-7b17-4d39-92e0-797550bc8535"
      }
     }
    },
    "09808789-7c69-4bfe-9b60-a977879551cb": {
     "id": "09808789-7c69-4bfe-9b60-a977879551cb",
     "prev": "c755cbd0-7376-4468-8f5e-cefce0eaff8a",
     "regions": {
      "ac12e831-fe3a-424f-a14e-927189055a94": {
       "attrs": {
        "height": 0.8,
        "width": 0.8,
        "x": 0.1,
        "y": 0.1
       },
       "content": {
        "cell": "14c42e1b-8265-4f32-a216-118f7b395080",
        "part": "whole"
       },
       "id": "ac12e831-fe3a-424f-a14e-927189055a94"
      }
     }
    },
    "0c823c80-197b-44c8-b03e-b37401425e97": {
     "id": "0c823c80-197b-44c8-b03e-b37401425e97",
     "prev": "1513d0a7-3d52-4436-83a1-5f3cc1829e85",
     "regions": {
      "243fab57-77c5-4042-85d4-da7dead6e728": {
       "attrs": {
        "height": 0.8,
        "width": 0.8,
        "x": 0.1,
        "y": 0.1
       },
       "content": {
        "cell": "00262776-89f5-4e2c-8f96-519dad434c30",
        "part": "whole"
       },
       "id": "243fab57-77c5-4042-85d4-da7dead6e728"
      }
     }
    },
    "0d362fd4-4f8f-4ece-9f97-01890fb23a5d": {
     "id": "0d362fd4-4f8f-4ece-9f97-01890fb23a5d",
     "prev": "32c0fbfa-0636-49bb-9df2-1e6066d9ef81",
     "regions": {
      "80d6d18a-5bb5-4d62-8bf9-a8954140400b": {
       "attrs": {
        "height": 0.8,
        "width": 0.8,
        "x": 0.1,
        "y": 0.1
       },
       "content": {
        "cell": "0a3e866b-25a2-4e20-bd1b-cdb45bdc170a",
        "part": "whole"
       },
       "id": "80d6d18a-5bb5-4d62-8bf9-a8954140400b"
      }
     }
    },
    "0e2d2d08-3a4f-4f99-a4a5-2082f77c518b": {
     "id": "0e2d2d08-3a4f-4f99-a4a5-2082f77c518b",
     "prev": "4a84e820-2a4a-4381-999f-f3f3d4f854d0",
     "regions": {
      "64afa812-bedd-44f7-a129-a59484171e1b": {
       "attrs": {
        "height": 0.8,
        "width": 0.8,
        "x": 0.1,
        "y": 0.1
       },
       "content": {
        "cell": "9718beea-16c8-4263-a780-edd0315250f9",
        "part": "whole"
       },
       "id": "64afa812-bedd-44f7-a129-a59484171e1b"
      }
     }
    },
    "149262e1-595c-4611-a9fc-0304eae77dfa": {
     "id": "149262e1-595c-4611-a9fc-0304eae77dfa",
     "prev": "2fd5ffbc-e84a-4f87-a512-d6df531bf827",
     "regions": {
      "a4f92028-8dcd-4034-9d59-367a907c18ab": {
       "attrs": {
        "height": 0.8,
        "width": 0.8,
        "x": 0.1,
        "y": 0.1
       },
       "content": {
        "cell": "6dad9dc0-9c99-41d3-8f69-1a09bb1987e3",
        "part": "whole"
       },
       "id": "a4f92028-8dcd-4034-9d59-367a907c18ab"
      }
     }
    },
    "1513d0a7-3d52-4436-83a1-5f3cc1829e85": {
     "id": "1513d0a7-3d52-4436-83a1-5f3cc1829e85",
     "prev": "1debf71a-d5bb-4654-a465-d540ebe502a2",
     "regions": {
      "aca2bed2-15b1-4310-aa3c-e8bcd5214f16": {
       "attrs": {
        "height": 0.8,
        "width": 0.8,
        "x": 0.1,
        "y": 0.1
       },
       "content": {
        "cell": "24b4248d-4c25-4147-b490-e0e34d53209e",
        "part": "whole"
       },
       "id": "aca2bed2-15b1-4310-aa3c-e8bcd5214f16"
      }
     }
    },
    "1debf71a-d5bb-4654-a465-d540ebe502a2": {
     "id": "1debf71a-d5bb-4654-a465-d540ebe502a2",
     "prev": "fd304dcd-7fdd-4531-8070-07afd1e827ab",
     "regions": {
      "1af35c08-ef53-4842-b249-f2fa8dfcf2ae": {
       "attrs": {
        "height": 0.8,
        "width": 0.8,
        "x": 0.1,
        "y": 0.1
       },
       "content": {
        "cell": "927e79d8-cae4-49bc-9bec-1eb5a65fb7fe",
        "part": "whole"
       },
       "id": "1af35c08-ef53-4842-b249-f2fa8dfcf2ae"
      }
     }
    },
    "1edf85ae-65da-42d0-9357-fa12b6927f59": {
     "id": "1edf85ae-65da-42d0-9357-fa12b6927f59",
     "prev": "64215a76-f613-47d0-80f6-0fd058bdab76",
     "regions": {
      "45a01076-a5d9-467d-a30b-dca250155c2d": {
       "attrs": {
        "height": 0.8,
        "width": 0.8,
        "x": 0.1,
        "y": 0.1
       },
       "content": {
        "cell": "0baa80e0-d59a-41bf-aad0-177a782eeeb2",
        "part": "whole"
       },
       "id": "45a01076-a5d9-467d-a30b-dca250155c2d"
      }
     }
    },
    "1fd0aee4-e3e9-4d74-a6c1-108ede92f503": {
     "id": "1fd0aee4-e3e9-4d74-a6c1-108ede92f503",
     "prev": "2ec64a20-2c29-4b40-abdc-0b571c92a042",
     "regions": {
      "5d004943-f378-4cb7-b154-8e0d2b27811d": {
       "attrs": {
        "height": 0.8,
        "width": 0.8,
        "x": 0.1,
        "y": 0.1
       },
       "content": {
        "cell": "30c26401-4a1b-4ad8-97c6-c075fffc8433",
        "part": "whole"
       },
       "id": "5d004943-f378-4cb7-b154-8e0d2b27811d"
      }
     }
    },
    "21b6703c-9590-4373-8e10-6114d8eb69d0": {
     "id": "21b6703c-9590-4373-8e10-6114d8eb69d0",
     "prev": "755303be-ee79-4ccb-a3ad-4d82b1ccfc78",
     "regions": {
      "60bed8b9-f16c-4838-bb7e-6142633ad4a3": {
       "attrs": {
        "height": 0.8,
        "width": 0.8,
        "x": 0.1,
        "y": 0.1
       },
       "content": {
        "cell": "9ee9adb9-342f-4e31-a399-944c665dc79e",
        "part": "whole"
       },
       "id": "60bed8b9-f16c-4838-bb7e-6142633ad4a3"
      }
     }
    },
    "23218430-aed5-45ab-83a0-f16001d669af": {
     "id": "23218430-aed5-45ab-83a0-f16001d669af",
     "prev": "0e2d2d08-3a4f-4f99-a4a5-2082f77c518b",
     "regions": {
      "0bc263d9-72e8-4190-8afc-9bfbaef63543": {
       "attrs": {
        "height": 0.8,
        "width": 0.8,
        "x": 0.1,
        "y": 0.1
       },
       "content": {
        "cell": "f59937a7-5725-48ca-b271-1bc95c3cf513",
        "part": "whole"
       },
       "id": "0bc263d9-72e8-4190-8afc-9bfbaef63543"
      }
     }
    },
    "279113fa-70d6-4de4-a57f-22f6f880777b": {
     "id": "279113fa-70d6-4de4-a57f-22f6f880777b",
     "prev": "0c823c80-197b-44c8-b03e-b37401425e97",
     "regions": {
      "bdac493b-e460-4429-a807-8772c5615af6": {
       "attrs": {
        "height": 0.8,
        "width": 0.8,
        "x": 0.1,
        "y": 0.1
       },
       "content": {
        "cell": "0524faa7-eaf4-4160-8d0a-bbc8fe5ed83c",
        "part": "whole"
       },
       "id": "bdac493b-e460-4429-a807-8772c5615af6"
      }
     }
    },
    "2d12e28a-4c7a-47b7-b958-df94166d0829": {
     "id": "2d12e28a-4c7a-47b7-b958-df94166d0829",
     "prev": "0d362fd4-4f8f-4ece-9f97-01890fb23a5d",
     "regions": {
      "bf105813-947f-420b-ae40-9a73f8646689": {
       "attrs": {
        "height": 0.8,
        "width": 0.8,
        "x": 0.1,
        "y": 0.1
       },
       "content": {
        "cell": "041cad07-f9e0-4537-be04-c1ffc7bf08d7",
        "part": "whole"
       },
       "id": "bf105813-947f-420b-ae40-9a73f8646689"
      }
     }
    },
    "2ec64a20-2c29-4b40-abdc-0b571c92a042": {
     "id": "2ec64a20-2c29-4b40-abdc-0b571c92a042",
     "prev": "cedb6f85-f1bd-47dd-8bb8-b5fa9c32e356",
     "regions": {
      "fbd6902f-e62f-4f61-a2f9-f1a29fcb7c75": {
       "attrs": {
        "height": 0.8,
        "width": 0.8,
        "x": 0.1,
        "y": 0.1
       },
       "content": {
        "cell": "624238cd-b380-4599-bd19-b22ad8326b32",
        "part": "whole"
       },
       "id": "fbd6902f-e62f-4f61-a2f9-f1a29fcb7c75"
      }
     }
    },
    "2f6905ca-4f85-4e2a-b35f-88ca36725be9": {
     "id": "2f6905ca-4f85-4e2a-b35f-88ca36725be9",
     "prev": "cf1b0966-89a5-4400-a0d4-9447a327c2a2",
     "regions": {
      "cd750cde-093e-4c51-8d3d-05c8f7b747f6": {
       "attrs": {
        "height": 0.8,
        "width": 0.8,
        "x": 0.1,
        "y": 0.1
       },
       "content": {
        "cell": "eb15538d-9cc3-4afd-8e79-af21b3d72dd4",
        "part": "whole"
       },
       "id": "cd750cde-093e-4c51-8d3d-05c8f7b747f6"
      }
     }
    },
    "2fd5ffbc-e84a-4f87-a512-d6df531bf827": {
     "id": "2fd5ffbc-e84a-4f87-a512-d6df531bf827",
     "prev": "ec2a7eec-506a-4d8b-b483-fc4458dfc4a5",
     "regions": {
      "0aaa3a48-680a-4ee1-b60e-18c446df9ebb": {
       "attrs": {
        "height": 0.8,
        "width": 0.8,
        "x": 0.1,
        "y": 0.1
       },
       "content": {
        "cell": "36612c90-3ff6-492b-9806-4075fcffa6d0",
        "part": "whole"
       },
       "id": "0aaa3a48-680a-4ee1-b60e-18c446df9ebb"
      }
     }
    },
    "329250e6-be39-476c-9c5e-4744ca32cda7": {
     "id": "329250e6-be39-476c-9c5e-4744ca32cda7",
     "prev": "52127ed3-e61d-4b3d-8222-db4118a26985",
     "regions": {
      "d26da413-2f2e-46c8-b157-0f27ae50f4ca": {
       "attrs": {
        "height": 0.8,
        "width": 0.8,
        "x": 0.1,
        "y": 0.1
       },
       "content": {
        "cell": "11628fc0-3de7-4cc2-b0b8-dde14c310a6a",
        "part": "whole"
       },
       "id": "d26da413-2f2e-46c8-b157-0f27ae50f4ca"
      }
     }
    },
    "32c0fbfa-0636-49bb-9df2-1e6066d9ef81": {
     "id": "32c0fbfa-0636-49bb-9df2-1e6066d9ef81",
     "prev": "e9f30cb4-a776-4e8f-8af1-ae1e0a1a3726",
     "regions": {
      "09c242bf-104f-4da8-a3b1-78422ccfc3da": {
       "attrs": {
        "height": 0.8,
        "width": 0.8,
        "x": 0.1,
        "y": 0.1
       },
       "content": {
        "cell": "a87856ac-41c9-4719-b406-94456c190c8f",
        "part": "whole"
       },
       "id": "09c242bf-104f-4da8-a3b1-78422ccfc3da"
      }
     }
    },
    "38ea677b-f2db-4ab4-ad0e-73a65ee466ec": {
     "id": "38ea677b-f2db-4ab4-ad0e-73a65ee466ec",
     "prev": "a16636a8-067e-4368-884b-02d665d666ca",
     "regions": {
      "0b36d819-778b-4275-9eaf-28b8b44aacaa": {
       "attrs": {
        "height": 0.8,
        "width": 0.8,
        "x": 0.1,
        "y": 0.1
       },
       "content": {
        "cell": "befd4f7e-c2f7-419b-8965-6b0e7eb0a776",
        "part": "whole"
       },
       "id": "0b36d819-778b-4275-9eaf-28b8b44aacaa"
      }
     }
    },
    "3c4bcee8-a6a4-4016-9483-54418a287908": {
     "id": "3c4bcee8-a6a4-4016-9483-54418a287908",
     "prev": "a717be34-47c4-41a1-b0f2-9d5f08da5903",
     "regions": {
      "d839886b-6d44-4a0a-916a-a4de7830d261": {
       "attrs": {
        "height": 0.8,
        "width": 0.8,
        "x": 0.1,
        "y": 0.1
       },
       "content": {
        "cell": "e10278b1-ae80-46dd-acee-9e2eb2a15d18",
        "part": "whole"
       },
       "id": "d839886b-6d44-4a0a-916a-a4de7830d261"
      }
     }
    },
    "3f10dda4-85ff-4930-9ee7-28d7ddcd1150": {
     "id": "3f10dda4-85ff-4930-9ee7-28d7ddcd1150",
     "prev": "a59a73de-4356-4679-a609-79ddd6fac2e9",
     "regions": {
      "afb6fe1e-67f6-4d48-89c9-0d001b67c88e": {
       "attrs": {
        "height": 0.8,
        "width": 0.8,
        "x": 0.1,
        "y": 0.1
       },
       "content": {
        "cell": "c7205975-daae-4e12-a8ba-27272b76315f",
        "part": "whole"
       },
       "id": "afb6fe1e-67f6-4d48-89c9-0d001b67c88e"
      }
     }
    },
    "43b835dd-c4b0-43f3-82dc-b2158d4d5ac4": {
     "id": "43b835dd-c4b0-43f3-82dc-b2158d4d5ac4",
     "prev": "f45f75ca-8e6b-4304-be9f-da14aa6a64ad",
     "regions": {
      "e598a688-8090-4978-b269-e955cb3ff5c8": {
       "attrs": {
        "height": 0.8,
        "width": 0.8,
        "x": 0.1,
        "y": 0.1
       },
       "content": {
        "cell": "2928c824-2736-4c28-af0d-2f61f699bedc",
        "part": "whole"
       },
       "id": "e598a688-8090-4978-b269-e955cb3ff5c8"
      }
     }
    },
    "4a84e820-2a4a-4381-999f-f3f3d4f854d0": {
     "id": "4a84e820-2a4a-4381-999f-f3f3d4f854d0",
     "prev": "e22f0594-8429-4ec7-9c80-5cc136e90b7c",
     "regions": {
      "7bd9547b-49ea-4b23-975f-8fe0eefddf65": {
       "attrs": {
        "height": 0.8,
        "width": 0.8,
        "x": 0.1,
        "y": 0.1
       },
       "content": {
        "cell": "23a63bc6-50ab-4d59-818e-dab978604f93",
        "part": "whole"
       },
       "id": "7bd9547b-49ea-4b23-975f-8fe0eefddf65"
      }
     }
    },
    "4af14f12-5a35-4997-ba9c-9deb2f03aff1": {
     "id": "4af14f12-5a35-4997-ba9c-9deb2f03aff1",
     "prev": "ccf05486-5fd9-4efd-849c-65a5bd86bdca",
     "regions": {
      "3921db6c-6754-4b49-897f-9278f7187751": {
       "attrs": {
        "height": 0.8,
        "width": 0.8,
        "x": 0.1,
        "y": 0.1
       },
       "content": {
        "cell": "7d7ca83a-043b-4cb6-a4e5-83b2a4fc6363",
        "part": "whole"
       },
       "id": "3921db6c-6754-4b49-897f-9278f7187751"
      }
     }
    },
    "4f4a14e0-feb9-4bbf-9a49-53fe718c49f5": {
     "id": "4f4a14e0-feb9-4bbf-9a49-53fe718c49f5",
     "prev": "329250e6-be39-476c-9c5e-4744ca32cda7",
     "regions": {
      "c1ac16ac-f404-430e-bb56-1f5078ecd7f0": {
       "attrs": {
        "height": 0.8,
        "width": 0.8,
        "x": 0.1,
        "y": 0.1
       },
       "content": {
        "cell": "89bd1f3a-d5d3-419b-97c1-2ea2a77eb589",
        "part": "whole"
       },
       "id": "c1ac16ac-f404-430e-bb56-1f5078ecd7f0"
      }
     }
    },
    "52127ed3-e61d-4b3d-8222-db4118a26985": {
     "id": "52127ed3-e61d-4b3d-8222-db4118a26985",
     "prev": "09808789-7c69-4bfe-9b60-a977879551cb",
     "regions": {
      "16b38494-2125-498c-8512-a1098f3ca9de": {
       "attrs": {
        "height": 0.8,
        "width": 0.8,
        "x": 0.1,
        "y": 0.1
       },
       "content": {
        "cell": "0fc4ca2d-4509-4d51-9f97-fb7af27fff95",
        "part": "whole"
       },
       "id": "16b38494-2125-498c-8512-a1098f3ca9de"
      }
     }
    },
    "5bd71aba-4aef-48f3-afcd-21d676032a0c": {
     "id": "5bd71aba-4aef-48f3-afcd-21d676032a0c",
     "prev": "fa4af2f5-0c6a-46fb-a987-d4238b33cdae",
     "regions": {
      "b3e298a6-7b27-4e58-88cc-65b894246a04": {
       "attrs": {
        "height": 0.8,
        "width": 0.8,
        "x": 0.1,
        "y": 0.1
       },
       "content": {
        "cell": "a6994f0c-82af-47b0-bef6-b83c42dc2855",
        "part": "whole"
       },
       "id": "b3e298a6-7b27-4e58-88cc-65b894246a04"
      }
     }
    },
    "5bd9cc07-4257-4c28-80ab-1c449f343766": {
     "id": "5bd9cc07-4257-4c28-80ab-1c449f343766",
     "prev": "8217031d-f0f8-40d5-ab9d-dc216a2bbc23",
     "regions": {
      "3549f0d3-d488-4294-a988-54f2f21b15df": {
       "attrs": {
        "height": 0.8,
        "width": 0.8,
        "x": 0.1,
        "y": 0.1
       },
       "content": {
        "cell": "1d50fa75-6e14-417f-92b7-0d3d74592db9",
        "part": "whole"
       },
       "id": "3549f0d3-d488-4294-a988-54f2f21b15df"
      }
     }
    },
    "5cd1c3b0-8715-4fb5-b414-7a1cc87cdad4": {
     "id": "5cd1c3b0-8715-4fb5-b414-7a1cc87cdad4",
     "prev": "739dcf4f-77da-41af-88e7-b57589f2bbbc",
     "regions": {
      "23f26fa8-0441-4439-a2b1-60569dbb098f": {
       "attrs": {
        "height": 0.8,
        "width": 0.8,
        "x": 0.1,
        "y": 0.1
       },
       "content": {
        "cell": "0164fe6c-bd7f-4e95-9a59-06c9b18b9dc4",
        "part": "whole"
       },
       "id": "23f26fa8-0441-4439-a2b1-60569dbb098f"
      }
     }
    },
    "5e8f064a-51b8-475f-82ab-0246e575f855": {
     "id": "5e8f064a-51b8-475f-82ab-0246e575f855",
     "prev": "ede84f56-27de-4651-aa58-611b410d038e",
     "regions": {
      "477ac32c-f2da-4ece-befc-7ac8f25ecc54": {
       "attrs": {
        "height": 0.8,
        "width": 0.8,
        "x": 0.1,
        "y": 0.1
       },
       "content": {
        "cell": "4b5e1f5d-0927-4a38-b2e8-5636b8835e01",
        "part": "whole"
       },
       "id": "477ac32c-f2da-4ece-befc-7ac8f25ecc54"
      }
     }
    },
    "5ef22265-290a-4456-917c-a9b14ca64220": {
     "id": "5ef22265-290a-4456-917c-a9b14ca64220",
     "prev": "3c4bcee8-a6a4-4016-9483-54418a287908",
     "regions": {
      "51baffa6-3f1f-414d-a593-9f88c3d10566": {
       "attrs": {
        "height": 0.8,
        "width": 0.8,
        "x": 0.1,
        "y": 0.1
       },
       "content": {
        "cell": "50dd3b7a-7b84-47ac-b0cf-ad44b0146484",
        "part": "whole"
       },
       "id": "51baffa6-3f1f-414d-a593-9f88c3d10566"
      }
     }
    },
    "6401b3b2-a772-4397-860d-4289fdddfa45": {
     "id": "6401b3b2-a772-4397-860d-4289fdddfa45",
     "prev": "dca0293b-4aab-41cb-8ded-7304709798e8",
     "regions": {
      "896cf4e4-4940-49ee-b615-560ce3fcdd75": {
       "attrs": {
        "height": 0.8,
        "width": 0.8,
        "x": 0.1,
        "y": 0.1
       },
       "content": {
        "cell": "6658bacf-3167-43b5-a4a3-d869e785837b",
        "part": "whole"
       },
       "id": "896cf4e4-4940-49ee-b615-560ce3fcdd75"
      }
     }
    },
    "64215a76-f613-47d0-80f6-0fd058bdab76": {
     "id": "64215a76-f613-47d0-80f6-0fd058bdab76",
     "prev": "e08e6bf2-53ca-43cf-88ca-8d340fba2516",
     "regions": {
      "067777ee-60d4-4b06-a493-1e7754fa27b8": {
       "attrs": {
        "height": 0.8,
        "width": 0.8,
        "x": 0.1,
        "y": 0.1
       },
       "content": {
        "cell": "40c59b6d-2f19-465a-9746-504f2be9b424",
        "part": "whole"
       },
       "id": "067777ee-60d4-4b06-a493-1e7754fa27b8"
      }
     }
    },
    "69b6e99e-4d38-41c6-9bd7-43b591674242": {
     "id": "69b6e99e-4d38-41c6-9bd7-43b591674242",
     "prev": "a43a29af-6080-4e30-9002-56ceeebf7fbe",
     "regions": {
      "62e40c24-acb5-4b1b-aa80-a36639ff5548": {
       "attrs": {
        "height": 0.8,
        "width": 0.8,
        "x": 0.1,
        "y": 0.1
       },
       "content": {
        "cell": "cd3735a6-1788-4845-a7c7-eb79844e71e7",
        "part": "whole"
       },
       "id": "62e40c24-acb5-4b1b-aa80-a36639ff5548"
      }
     }
    },
    "739dcf4f-77da-41af-88e7-b57589f2bbbc": {
     "id": "739dcf4f-77da-41af-88e7-b57589f2bbbc",
     "prev": "2d12e28a-4c7a-47b7-b958-df94166d0829",
     "regions": {
      "bcff147f-59f6-4afb-b252-31bc1c877c9e": {
       "attrs": {
        "height": 0.8,
        "width": 0.8,
        "x": 0.1,
        "y": 0.1
       },
       "content": {
        "cell": "30df255a-cc89-416b-9d41-4b28c1607daa",
        "part": "whole"
       },
       "id": "bcff147f-59f6-4afb-b252-31bc1c877c9e"
      }
     }
    },
    "755303be-ee79-4ccb-a3ad-4d82b1ccfc78": {
     "id": "755303be-ee79-4ccb-a3ad-4d82b1ccfc78",
     "prev": null,
     "regions": {
      "7613b43c-9d72-44b6-a8e2-4a7d11d5374e": {
       "attrs": {
        "height": 0.8,
        "width": 0.8,
        "x": 0.1,
        "y": 0.1
       },
       "content": {
        "cell": "6a373a5c-3c13-4d9e-bbc5-431553127160",
        "part": "whole"
       },
       "id": "7613b43c-9d72-44b6-a8e2-4a7d11d5374e"
      }
     }
    },
    "76a89992-ed89-45d3-a481-d12d9b0a59fb": {
     "id": "76a89992-ed89-45d3-a481-d12d9b0a59fb",
     "prev": "a6c64bca-b8a7-4617-9122-3713a5a8b259",
     "regions": {
      "85e975a4-96ad-4ae8-89af-e4ab7dfb54ad": {
       "attrs": {
        "height": 0.8,
        "width": 0.8,
        "x": 0.1,
        "y": 0.1
       },
       "content": {
        "cell": "574f6801-a990-426c-9e70-0697fde04ac7",
        "part": "whole"
       },
       "id": "85e975a4-96ad-4ae8-89af-e4ab7dfb54ad"
      }
     }
    },
    "7adab978-b31f-4a7e-a03f-d10dc7d07b8f": {
     "id": "7adab978-b31f-4a7e-a03f-d10dc7d07b8f",
     "prev": "4af14f12-5a35-4997-ba9c-9deb2f03aff1",
     "regions": {
      "8272cebc-6afa-493c-b327-27a51f712a3b": {
       "attrs": {
        "height": 0.8,
        "width": 0.8,
        "x": 0.1,
        "y": 0.1
       },
       "content": {
        "cell": "845d6897-adcb-44fb-a0f8-94062ded18ee",
        "part": "whole"
       },
       "id": "8272cebc-6afa-493c-b327-27a51f712a3b"
      }
     }
    },
    "801498c4-543b-434e-b882-8ca7e8a427ef": {
     "id": "801498c4-543b-434e-b882-8ca7e8a427ef",
     "prev": "f344ccb6-e829-4bbd-a384-6e06d84bc608",
     "regions": {
      "c2d82213-98dd-4600-bdde-80f9c97469e3": {
       "attrs": {
        "height": 0.8,
        "width": 0.8,
        "x": 0.1,
        "y": 0.1
       },
       "content": {
        "cell": "e6b49881-bf07-4fec-ac97-73549ca0f151",
        "part": "whole"
       },
       "id": "c2d82213-98dd-4600-bdde-80f9c97469e3"
      }
     }
    },
    "8217031d-f0f8-40d5-ab9d-dc216a2bbc23": {
     "id": "8217031d-f0f8-40d5-ab9d-dc216a2bbc23",
     "prev": "5e8f064a-51b8-475f-82ab-0246e575f855",
     "regions": {
      "d6638404-928e-463a-a86d-979cb386fe97": {
       "attrs": {
        "height": 0.8,
        "width": 0.8,
        "x": 0.1,
        "y": 0.1
       },
       "content": {
        "cell": "db96482a-af9c-49bc-87c8-a5cf5029677c",
        "part": "whole"
       },
       "id": "d6638404-928e-463a-a86d-979cb386fe97"
      }
     }
    },
    "828ddd4c-90df-4b90-8909-8c889de2f012": {
     "id": "828ddd4c-90df-4b90-8909-8c889de2f012",
     "prev": "5ef22265-290a-4456-917c-a9b14ca64220",
     "regions": {
      "8fbe04f2-6370-40ac-b3f9-58f18cdd6b59": {
       "attrs": {
        "height": 0.8,
        "width": 0.8,
        "x": 0.1,
        "y": 0.1
       },
       "content": {
        "cell": "046f10ac-14e2-4f28-94a8-a1dd56d7a37a",
        "part": "whole"
       },
       "id": "8fbe04f2-6370-40ac-b3f9-58f18cdd6b59"
      }
     }
    },
    "92d5784e-dec5-4e9e-b0b0-c7b3f9454190": {
     "id": "92d5784e-dec5-4e9e-b0b0-c7b3f9454190",
     "prev": "5bd9cc07-4257-4c28-80ab-1c449f343766",
     "regions": {
      "d443e948-610a-4c47-8bd2-a294c57a9474": {
       "attrs": {
        "height": 0.8,
        "width": 0.8,
        "x": 0.1,
        "y": 0.1
       },
       "content": {
        "cell": "d5feda18-90dc-4f53-a4bf-53a62ed85e08",
        "part": "whole"
       },
       "id": "d443e948-610a-4c47-8bd2-a294c57a9474"
      }
     }
    },
    "9ef07d3a-c83e-4c29-a770-5ad8c3fad543": {
     "id": "9ef07d3a-c83e-4c29-a770-5ad8c3fad543",
     "prev": "fbcceb0e-a66e-46a7-aa8e-0af5b03a36e5",
     "regions": {
      "6fa1c050-fe8d-4896-876c-a7b55ce3c3db": {
       "attrs": {
        "height": 0.8,
        "width": 0.8,
        "x": 0.1,
        "y": 0.1
       },
       "content": {
        "cell": "9e74e5e0-89b0-4acb-a378-2f50633fd4d2",
        "part": "whole"
       },
       "id": "6fa1c050-fe8d-4896-876c-a7b55ce3c3db"
      }
     }
    },
    "a165a9cc-eab2-4b37-a13e-182a39cdc6ce": {
     "id": "a165a9cc-eab2-4b37-a13e-182a39cdc6ce",
     "prev": "f10017db-1310-4ded-8e1d-78e578298e19",
     "regions": {
      "b046bf2d-4023-4f5b-9454-6119f93df0f0": {
       "attrs": {
        "height": 0.8,
        "width": 0.8,
        "x": 0.1,
        "y": 0.1
       },
       "content": {
        "cell": "089ff991-d67f-4f03-86a1-57126421deda",
        "part": "whole"
       },
       "id": "b046bf2d-4023-4f5b-9454-6119f93df0f0"
      }
     }
    },
    "a16636a8-067e-4368-884b-02d665d666ca": {
     "id": "a16636a8-067e-4368-884b-02d665d666ca",
     "prev": "fa650934-503c-493b-8545-0483f7942adc",
     "regions": {
      "f20b7a01-5eee-4683-b9c1-9e3819b01362": {
       "attrs": {
        "height": 0.8,
        "width": 0.8,
        "x": 0.1,
        "y": 0.1
       },
       "content": {
        "cell": "91b48d83-fa29-4fa4-8f78-a66c8c456fb3",
        "part": "whole"
       },
       "id": "f20b7a01-5eee-4683-b9c1-9e3819b01362"
      }
     }
    },
    "a43a29af-6080-4e30-9002-56ceeebf7fbe": {
     "id": "a43a29af-6080-4e30-9002-56ceeebf7fbe",
     "prev": "a89f074d-7a27-442b-94be-3c847acf784b",
     "regions": {
      "6ad41843-9f6f-4273-986c-5ec7bc96ecec": {
       "attrs": {
        "height": 0.8,
        "width": 0.8,
        "x": 0.1,
        "y": 0.1
       },
       "content": {
        "cell": "148b85ea-207b-45f8-8e24-93ce8201e4f3",
        "part": "whole"
       },
       "id": "6ad41843-9f6f-4273-986c-5ec7bc96ecec"
      }
     }
    },
    "a59a73de-4356-4679-a609-79ddd6fac2e9": {
     "id": "a59a73de-4356-4679-a609-79ddd6fac2e9",
     "prev": "801498c4-543b-434e-b882-8ca7e8a427ef",
     "regions": {
      "d0d72803-090f-408e-9492-92e21c7c7d09": {
       "attrs": {
        "height": 0.8,
        "width": 0.8,
        "x": 0.1,
        "y": 0.1
       },
       "content": {
        "cell": "a74ce9df-999c-4715-890b-02fc098f0fa5",
        "part": "whole"
       },
       "id": "d0d72803-090f-408e-9492-92e21c7c7d09"
      }
     }
    },
    "a6c64bca-b8a7-4617-9122-3713a5a8b259": {
     "id": "a6c64bca-b8a7-4617-9122-3713a5a8b259",
     "prev": "d1f0e498-ec9d-4798-a49a-202fb2caa144",
     "regions": {
      "6262993c-0952-4231-9137-4ca7a995e151": {
       "attrs": {
        "height": 0.8,
        "width": 0.8,
        "x": 0.1,
        "y": 0.1
       },
       "content": {
        "cell": "1e1a7f53-8c8d-40b4-8bcd-33e6f16dbfa0",
        "part": "whole"
       },
       "id": "6262993c-0952-4231-9137-4ca7a995e151"
      }
     }
    },
    "a717be34-47c4-41a1-b0f2-9d5f08da5903": {
     "id": "a717be34-47c4-41a1-b0f2-9d5f08da5903",
     "prev": "bea7d1e6-3f9d-4acf-91de-d1774a1250c3",
     "regions": {
      "c942625d-9cd8-44da-b36f-036596f7fd43": {
       "attrs": {
        "height": 0.8,
        "width": 0.8,
        "x": 0.1,
        "y": 0.1
       },
       "content": {
        "cell": "0a272d4f-419a-41b7-8e5c-5c9950029b62",
        "part": "whole"
       },
       "id": "c942625d-9cd8-44da-b36f-036596f7fd43"
      }
     }
    },
    "a89f074d-7a27-442b-94be-3c847acf784b": {
     "id": "a89f074d-7a27-442b-94be-3c847acf784b",
     "prev": "76a89992-ed89-45d3-a481-d12d9b0a59fb",
     "regions": {
      "cbe1cee8-0cb7-4fcd-8246-d5a2c0ea201c": {
       "attrs": {
        "height": 0.8,
        "width": 0.8,
        "x": 0.1,
        "y": 0.1
       },
       "content": {
        "cell": "e60a3856-7a0f-4ba3-9b5d-8c5b5c6f6178",
        "part": "whole"
       },
       "id": "cbe1cee8-0cb7-4fcd-8246-d5a2c0ea201c"
      }
     }
    },
    "bea7d1e6-3f9d-4acf-91de-d1774a1250c3": {
     "id": "bea7d1e6-3f9d-4acf-91de-d1774a1250c3",
     "prev": "3f10dda4-85ff-4930-9ee7-28d7ddcd1150",
     "regions": {
      "396b5072-45d8-4a94-9b3a-423730d235f2": {
       "attrs": {
        "height": 0.8,
        "width": 0.8,
        "x": 0.1,
        "y": 0.1
       },
       "content": {
        "cell": "35f944cd-b1b6-45a1-a383-645fa0251058",
        "part": "whole"
       },
       "id": "396b5072-45d8-4a94-9b3a-423730d235f2"
      }
     }
    },
    "c44547f0-82df-47e2-8eb5-f483491e9a14": {
     "id": "c44547f0-82df-47e2-8eb5-f483491e9a14",
     "prev": "e11aa198-1599-4cd8-b4f0-1fb876beb4ed",
     "regions": {
      "ae6e9c00-6752-46de-bca3-20fb35a9107b": {
       "attrs": {
        "height": 0.8,
        "width": 0.8,
        "x": 0.1,
        "y": 0.1
       },
       "content": {
        "cell": "9c474903-bc59-4d53-9935-d40fda8b326c",
        "part": "whole"
       },
       "id": "ae6e9c00-6752-46de-bca3-20fb35a9107b"
      }
     }
    },
    "c755cbd0-7376-4468-8f5e-cefce0eaff8a": {
     "id": "c755cbd0-7376-4468-8f5e-cefce0eaff8a",
     "prev": "9ef07d3a-c83e-4c29-a770-5ad8c3fad543",
     "regions": {
      "f30eced9-67d8-4bba-9b7a-413236242e4f": {
       "attrs": {
        "height": 0.8,
        "width": 0.8,
        "x": 0.1,
        "y": 0.1
       },
       "content": {
        "cell": "a372d150-1f25-481a-b9d1-f153f36aaacc",
        "part": "whole"
       },
       "id": "f30eced9-67d8-4bba-9b7a-413236242e4f"
      }
     }
    },
    "ccf05486-5fd9-4efd-849c-65a5bd86bdca": {
     "id": "ccf05486-5fd9-4efd-849c-65a5bd86bdca",
     "prev": "5cd1c3b0-8715-4fb5-b414-7a1cc87cdad4",
     "regions": {
      "61302da8-5165-4a40-9a35-c0219b01b662": {
       "attrs": {
        "height": 0.8,
        "width": 0.8,
        "x": 0.1,
        "y": 0.1
       },
       "content": {
        "cell": "2fcdc442-afa9-4364-8858-93217d9af766",
        "part": "whole"
       },
       "id": "61302da8-5165-4a40-9a35-c0219b01b662"
      }
     }
    },
    "cedb6f85-f1bd-47dd-8bb8-b5fa9c32e356": {
     "id": "cedb6f85-f1bd-47dd-8bb8-b5fa9c32e356",
     "prev": "e86cd816-3389-4518-808a-e7c56f88d12d",
     "regions": {
      "73b3d891-b4c2-4919-9f8f-5c00829f327f": {
       "attrs": {
        "height": 0.8,
        "width": 0.8,
        "x": 0.1,
        "y": 0.1
       },
       "content": {
        "cell": "5208db99-950a-4eaf-92cc-72ed8f049f50",
        "part": "whole"
       },
       "id": "73b3d891-b4c2-4919-9f8f-5c00829f327f"
      }
     }
    },
    "cf1b0966-89a5-4400-a0d4-9447a327c2a2": {
     "id": "cf1b0966-89a5-4400-a0d4-9447a327c2a2",
     "prev": "43b835dd-c4b0-43f3-82dc-b2158d4d5ac4",
     "regions": {
      "b5c1f13d-d471-4c3a-88aa-5d5a4545505b": {
       "attrs": {
        "height": 0.8,
        "width": 0.8,
        "x": 0.1,
        "y": 0.1
       },
       "content": {
        "cell": "971ed0ec-af51-4d64-b044-d3534346c85e",
        "part": "whole"
       },
       "id": "b5c1f13d-d471-4c3a-88aa-5d5a4545505b"
      }
     }
    },
    "cfec9ce0-73b1-4e23-97c8-e23464a01ce7": {
     "id": "cfec9ce0-73b1-4e23-97c8-e23464a01ce7",
     "prev": "5bd71aba-4aef-48f3-afcd-21d676032a0c",
     "regions": {
      "d6910a08-442e-4644-aeb3-ea5ea38d7556": {
       "attrs": {
        "height": 0.8,
        "width": 0.8,
        "x": 0.1,
        "y": 0.1
       },
       "content": {
        "cell": "4b0b4b2d-bd60-4011-a236-c65374979a5b",
        "part": "whole"
       },
       "id": "d6910a08-442e-4644-aeb3-ea5ea38d7556"
      }
     }
    },
    "d1f0e498-ec9d-4798-a49a-202fb2caa144": {
     "id": "d1f0e498-ec9d-4798-a49a-202fb2caa144",
     "prev": "92d5784e-dec5-4e9e-b0b0-c7b3f9454190",
     "regions": {
      "480a87f4-9718-4831-af15-089bd4be8810": {
       "attrs": {
        "height": 0.8,
        "width": 0.8,
        "x": 0.1,
        "y": 0.1
       },
       "content": {
        "cell": "505d0e96-576e-4d58-b21b-e645fe0f7484",
        "part": "whole"
       },
       "id": "480a87f4-9718-4831-af15-089bd4be8810"
      }
     }
    },
    "dca0293b-4aab-41cb-8ded-7304709798e8": {
     "id": "dca0293b-4aab-41cb-8ded-7304709798e8",
     "prev": "01101fe3-a6b9-4483-a7ba-090297aa4f78",
     "regions": {
      "ed68f94e-6636-4c80-8982-2f4d71b707ae": {
       "attrs": {
        "height": 0.8,
        "width": 0.8,
        "x": 0.1,
        "y": 0.1
       },
       "content": {
        "cell": "469fecc6-813d-4671-949d-828ae86941b3",
        "part": "whole"
       },
       "id": "ed68f94e-6636-4c80-8982-2f4d71b707ae"
      }
     }
    },
    "e08e6bf2-53ca-43cf-88ca-8d340fba2516": {
     "id": "e08e6bf2-53ca-43cf-88ca-8d340fba2516",
     "prev": "69b6e99e-4d38-41c6-9bd7-43b591674242",
     "regions": {
      "37c9c722-5584-49aa-9694-2a51888100d1": {
       "attrs": {
        "height": 0.8,
        "width": 0.8,
        "x": 0.1,
        "y": 0.1
       },
       "content": {
        "cell": "01e52f4d-318d-43fc-9403-cabf1085eb06",
        "part": "whole"
       },
       "id": "37c9c722-5584-49aa-9694-2a51888100d1"
      }
     }
    },
    "e0fd70be-2243-4bd6-9988-b615513743f7": {
     "id": "e0fd70be-2243-4bd6-9988-b615513743f7",
     "prev": "1edf85ae-65da-42d0-9357-fa12b6927f59",
     "regions": {
      "cb346004-e927-4425-9dfb-0a511ba1185a": {
       "attrs": {
        "height": 0.8,
        "width": 0.8,
        "x": 0.1,
        "y": 0.1
       },
       "content": {
        "cell": "e64bb884-d411-4e63-bd5d-d013cf838a3e",
        "part": "whole"
       },
       "id": "cb346004-e927-4425-9dfb-0a511ba1185a"
      }
     }
    },
    "e11aa198-1599-4cd8-b4f0-1fb876beb4ed": {
     "id": "e11aa198-1599-4cd8-b4f0-1fb876beb4ed",
     "prev": "149262e1-595c-4611-a9fc-0304eae77dfa",
     "regions": {
      "96afa3f6-d40f-4c48-aa33-4f5902901763": {
       "attrs": {
        "height": 0.8,
        "width": 0.8,
        "x": 0.1,
        "y": 0.1
       },
       "content": {
        "cell": "5bff2535-ca1b-418f-83bd-23651255935e",
        "part": "whole"
       },
       "id": "96afa3f6-d40f-4c48-aa33-4f5902901763"
      }
     }
    },
    "e22f0594-8429-4ec7-9c80-5cc136e90b7c": {
     "id": "e22f0594-8429-4ec7-9c80-5cc136e90b7c",
     "prev": "6401b3b2-a772-4397-860d-4289fdddfa45",
     "regions": {
      "e996d0b2-fc7b-4d99-93fe-90d138b32e43": {
       "attrs": {
        "height": 0.8,
        "width": 0.8,
        "x": 0.1,
        "y": 0.1
       },
       "content": {
        "cell": "5e381281-0114-474d-addb-cb41f31eed36",
        "part": "whole"
       },
       "id": "e996d0b2-fc7b-4d99-93fe-90d138b32e43"
      }
     }
    },
    "e86cd816-3389-4518-808a-e7c56f88d12d": {
     "id": "e86cd816-3389-4518-808a-e7c56f88d12d",
     "prev": "7adab978-b31f-4a7e-a03f-d10dc7d07b8f",
     "regions": {
      "0814e8e0-5bbe-486c-a427-7c93bfd63a67": {
       "attrs": {
        "height": 0.8,
        "width": 0.8,
        "x": 0.1,
        "y": 0.1
       },
       "content": {
        "cell": "8b95f16e-01f7-48ed-b7d4-11fa5c87a633",
        "part": "whole"
       },
       "id": "0814e8e0-5bbe-486c-a427-7c93bfd63a67"
      }
     }
    },
    "e9f30cb4-a776-4e8f-8af1-ae1e0a1a3726": {
     "id": "e9f30cb4-a776-4e8f-8af1-ae1e0a1a3726",
     "prev": "a165a9cc-eab2-4b37-a13e-182a39cdc6ce",
     "regions": {
      "30e79f10-6dde-458b-b2b7-3f19856790d9": {
       "attrs": {
        "height": 0.8,
        "width": 0.8,
        "x": 0.1,
        "y": 0.1
       },
       "content": {
        "cell": "01049905-3394-474d-8b1c-6f81f3077dd7",
        "part": "whole"
       },
       "id": "30e79f10-6dde-458b-b2b7-3f19856790d9"
      }
     }
    },
    "ec2a7eec-506a-4d8b-b483-fc4458dfc4a5": {
     "id": "ec2a7eec-506a-4d8b-b483-fc4458dfc4a5",
     "prev": "279113fa-70d6-4de4-a57f-22f6f880777b",
     "regions": {
      "28809706-b025-44b6-8b65-2f431ab678e0": {
       "attrs": {
        "height": 0.8,
        "width": 0.8,
        "x": 0.1,
        "y": 0.1
       },
       "content": {
        "cell": "b300feaa-6acc-4d8e-be5a-b591686f1e64",
        "part": "whole"
       },
       "id": "28809706-b025-44b6-8b65-2f431ab678e0"
      }
     }
    },
    "ede84f56-27de-4651-aa58-611b410d038e": {
     "id": "ede84f56-27de-4651-aa58-611b410d038e",
     "prev": "23218430-aed5-45ab-83a0-f16001d669af",
     "regions": {
      "7b34d7eb-d9e5-4f00-b82b-af7fcdac02da": {
       "attrs": {
        "height": 0.8,
        "width": 0.8,
        "x": 0.1,
        "y": 0.1
       },
       "content": {
        "cell": "2224ba6b-47ed-4fd2-ac7f-5ddaabfdcdd5",
        "part": "whole"
       },
       "id": "7b34d7eb-d9e5-4f00-b82b-af7fcdac02da"
      }
     }
    },
    "f10017db-1310-4ded-8e1d-78e578298e19": {
     "id": "f10017db-1310-4ded-8e1d-78e578298e19",
     "prev": "828ddd4c-90df-4b90-8909-8c889de2f012",
     "regions": {
      "2eb3f86d-b75e-4290-8953-a1f9d577cde4": {
       "attrs": {
        "height": 0.8,
        "width": 0.8,
        "x": 0.1,
        "y": 0.1
       },
       "content": {
        "cell": "b9646284-5644-4ab1-88e6-fe945dc7146e",
        "part": "whole"
       },
       "id": "2eb3f86d-b75e-4290-8953-a1f9d577cde4"
      }
     }
    },
    "f1b451c9-9fbc-44c2-8186-accc83200246": {
     "id": "f1b451c9-9fbc-44c2-8186-accc83200246",
     "prev": "e0fd70be-2243-4bd6-9988-b615513743f7",
     "regions": {
      "af45b086-6ef9-4f6e-8f49-c9e58a728c27": {
       "attrs": {
        "height": 0.8,
        "width": 0.8,
        "x": 0.1,
        "y": 0.1
       },
       "content": {
        "cell": "78db8178-d92b-4717-92b1-9e2e3a6af8d8",
        "part": "whole"
       },
       "id": "af45b086-6ef9-4f6e-8f49-c9e58a728c27"
      }
     }
    },
    "f344ccb6-e829-4bbd-a384-6e06d84bc608": {
     "id": "f344ccb6-e829-4bbd-a384-6e06d84bc608",
     "prev": "f1b451c9-9fbc-44c2-8186-accc83200246",
     "regions": {
      "a4b8db71-ecc6-49a3-9e7b-c80bd1c38979": {
       "attrs": {
        "height": 0.8,
        "width": 0.8,
        "x": 0.1,
        "y": 0.1
       },
       "content": {
        "cell": "e3368910-bf0c-46dc-8870-400be6842d58",
        "part": "whole"
       },
       "id": "a4b8db71-ecc6-49a3-9e7b-c80bd1c38979"
      }
     }
    },
    "f45f75ca-8e6b-4304-be9f-da14aa6a64ad": {
     "id": "f45f75ca-8e6b-4304-be9f-da14aa6a64ad",
     "prev": "cfec9ce0-73b1-4e23-97c8-e23464a01ce7",
     "regions": {
      "88df6af2-ea9e-4500-b1ff-70c27aa0bfd5": {
       "attrs": {
        "height": 0.8,
        "width": 0.8,
        "x": 0.1,
        "y": 0.1
       },
       "content": {
        "cell": "bbd882d8-7a3b-40bd-bf77-6ab88adb6b31",
        "part": "whole"
       },
       "id": "88df6af2-ea9e-4500-b1ff-70c27aa0bfd5"
      }
     }
    },
    "f606b729-bd82-4ad4-8726-8e5c53a8d62e": {
     "id": "f606b729-bd82-4ad4-8726-8e5c53a8d62e",
     "prev": "2f6905ca-4f85-4e2a-b35f-88ca36725be9",
     "regions": {
      "a4081980-49f6-49f6-8584-91248117720e": {
       "attrs": {
        "height": 0.8,
        "width": 0.8,
        "x": 0.1,
        "y": 0.1
       },
       "content": {
        "cell": "05977096-bcdd-4d5c-82f3-36691be7fbfd",
        "part": "whole"
       },
       "id": "a4081980-49f6-49f6-8584-91248117720e"
      }
     }
    },
    "fa4af2f5-0c6a-46fb-a987-d4238b33cdae": {
     "id": "fa4af2f5-0c6a-46fb-a987-d4238b33cdae",
     "prev": "c44547f0-82df-47e2-8eb5-f483491e9a14",
     "regions": {
      "40d73901-e35f-4235-94c1-526f5ca70950": {
       "attrs": {
        "height": 0.8,
        "width": 0.8,
        "x": 0.1,
        "y": 0.1
       },
       "content": {
        "cell": "792045b2-0ee9-41c6-8f63-644a4b9d0bce",
        "part": "whole"
       },
       "id": "40d73901-e35f-4235-94c1-526f5ca70950"
      }
     }
    },
    "fa650934-503c-493b-8545-0483f7942adc": {
     "id": "fa650934-503c-493b-8545-0483f7942adc",
     "prev": "4f4a14e0-feb9-4bbf-9a49-53fe718c49f5",
     "regions": {
      "9965cb0d-fab0-4f54-bdc7-cefb0d602b2b": {
       "attrs": {
        "height": 0.8,
        "width": 0.8,
        "x": 0.1,
        "y": 0.1
       },
       "content": {
        "cell": "d541fca1-2f59-48c6-8a3b-9702dff41f20",
        "part": "whole"
       },
       "id": "9965cb0d-fab0-4f54-bdc7-cefb0d602b2b"
      }
     }
    },
    "fbcceb0e-a66e-46a7-aa8e-0af5b03a36e5": {
     "id": "fbcceb0e-a66e-46a7-aa8e-0af5b03a36e5",
     "prev": "1fd0aee4-e3e9-4d74-a6c1-108ede92f503",
     "regions": {
      "602f3d49-0911-4707-9fae-d80053443f89": {
       "attrs": {
        "height": 0.8,
        "width": 0.8,
        "x": 0.1,
        "y": 0.1
       },
       "content": {
        "cell": "4e88a209-e10b-493e-8e52-f3354944a162",
        "part": "whole"
       },
       "id": "602f3d49-0911-4707-9fae-d80053443f89"
      }
     }
    },
    "fd304dcd-7fdd-4531-8070-07afd1e827ab": {
     "id": "fd304dcd-7fdd-4531-8070-07afd1e827ab",
     "prev": "38ea677b-f2db-4ab4-ad0e-73a65ee466ec",
     "regions": {
      "6255e6c9-7374-44bf-b6f3-7a5d567c6487": {
       "attrs": {
        "height": 0.8,
        "width": 0.8,
        "x": 0.1,
        "y": 0.1
       },
       "content": {
        "cell": "ebb8e84d-74af-46ab-a9fe-df5db2c91ade",
        "part": "whole"
       },
       "id": "6255e6c9-7374-44bf-b6f3-7a5d567c6487"
      }
     }
    }
   },
   "themes": {
    "default": "05f6fbb8-8af4-40e3-95b3-01dde401f583",
    "theme": {
     "05f6fbb8-8af4-40e3-95b3-01dde401f583": {
      "id": "05f6fbb8-8af4-40e3-95b3-01dde401f583",
      "palette": {
       "19cc588f-0593-49c9-9f4b-e4d7cc113b1c": {
        "id": "19cc588f-0593-49c9-9f4b-e4d7cc113b1c",
        "rgb": [
         252,
         252,
         252
        ]
       },
       "31af15d2-7e15-44c5-ab5e-e04b16a89eff": {
        "id": "31af15d2-7e15-44c5-ab5e-e04b16a89eff",
        "rgb": [
         68,
         68,
         68
        ]
       },
       "50f92c45-a630-455b-aec3-788680ec7410": {
        "id": "50f92c45-a630-455b-aec3-788680ec7410",
        "rgb": [
         155,
         177,
         192
        ]
       },
       "c5cc3653-2ee1-402a-aba2-7caae1da4f6c": {
        "id": "c5cc3653-2ee1-402a-aba2-7caae1da4f6c",
        "rgb": [
         43,
         126,
         184
        ]
       },
       "efa7f048-9acb-414c-8b04-a26811511a21": {
        "id": "efa7f048-9acb-414c-8b04-a26811511a21",
        "rgb": [
         25.118061674008803,
         73.60176211453744,
         107.4819383259912
        ]
       }
      },
      "rules": {
       "blockquote": {
        "color": "50f92c45-a630-455b-aec3-788680ec7410"
       },
       "code": {
        "font-family": "Anonymous Pro"
       },
       "h1": {
        "color": "c5cc3653-2ee1-402a-aba2-7caae1da4f6c",
        "font-family": "Lato",
        "font-size": 8
       },
       "h2": {
        "color": "c5cc3653-2ee1-402a-aba2-7caae1da4f6c",
        "font-family": "Lato",
        "font-size": 6
       },
       "h3": {
        "color": "50f92c45-a630-455b-aec3-788680ec7410",
        "font-family": "Lato",
        "font-size": 5.5
       },
       "h4": {
        "color": "c5cc3653-2ee1-402a-aba2-7caae1da4f6c",
        "font-family": "Lato",
        "font-size": 5
       },
       "h5": {
        "font-family": "Lato"
       },
       "h6": {
        "font-family": "Lato"
       },
       "h7": {
        "font-family": "Lato"
       },
       "pre": {
        "font-family": "Anonymous Pro",
        "font-size": 4
       }
      },
      "text-base": {
       "font-family": "Merriweather",
       "font-size": 4
      }
     }
    }
   }
  }
 },
 "nbformat": 4,
 "nbformat_minor": 1
}
